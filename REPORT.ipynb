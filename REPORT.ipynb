{
 "cells": [
  {
   "cell_type": "markdown",
   "id": "3779e44a-b882-4485-9352-ba0f687814d7",
   "metadata": {},
   "source": [
    "**GRU and LSTM Models: Predicting Nigeria's Inflation Rate**"
   ]
  },
  {
   "cell_type": "markdown",
   "id": "a955dfad-830a-4f73-88c3-788367ea573a",
   "metadata": {},
   "source": [
    "This documentation outlines the process of developing and evaluating advanced deep learning models, Using Long Short-Term Memory (LSTM) networks and the Gated Recurrent Unit (GRU) to predict Nigeria's inflation rate with real-world economic data. These models are designed to capture complex temporal patterns in historical inflation and macroeconomic indicators. \n",
    "The models leverage the sequential nature of inflation trends and Consumer Price Index (CPI) components to generate reliable predictions. Their performance is measured using Mean Absolute Error (MAE) metric and validation loss, providing insights into how effectively each model generalizes unseen data.\n"
   ]
  },
  {
   "cell_type": "markdown",
   "id": "68e5a545-9f78-479b-a2b1-47d3868a9bf7",
   "metadata": {},
   "source": [
    "**Problem Statement**\n",
    "\n",
    "•\tPolicymakers and business owners struggle with accurate and timely forecasting inflation leading to inappropriate decisions in monetary policy, wages and pricing\n",
    "\n",
    "•\tInvestors and Financial institution need accurate inflation prediction to manage risks and allocate resources effectively\n",
    "\n",
    "•\tThe model takes value of features such as Crude Oil, Production Level and various Consumer Price Index (CPI) components to predict Inflation Rate\n"
   ]
  },
  {
   "cell_type": "markdown",
   "id": "d787752a-f5c4-445d-9c42-1c6fadbae814",
   "metadata": {},
   "source": [
    "**Project Aim**: \n",
    "To train models, minimum of two of the advanced machine learning techniques listed within learning\n"
   ]
  },
  {
   "cell_type": "markdown",
   "id": "97979074-0803-426f-9b74-b0731d17d269",
   "metadata": {},
   "source": [
    "**Objective**:\n",
    "Build and evaluate a deep learning model that predicts the future inflation rate using:\n",
    "\n",
    "•\tTime Series Forecasting with LSTM (Recurrent Neural Network)\n",
    "\n",
    "•\tGated Recurrent Unit (GRU)\n"
   ]
  },
  {
   "cell_type": "markdown",
   "id": "b0a3ce09-a431-44cb-bdd4-7588b317bfb1",
   "metadata": {},
   "source": [
    "**Data Description**:\n",
    "\n",
    "This dataset provides a comprehensive overview of monthly inflation rates in Nigeria from March 2003 to June 2024, alongside with key economic indicators. The data captures important economic trends and is suitable for time series analysis, forecasting, and economic modeling.\n",
    "\n",
    "The dataset includes the following features:\n",
    "\n",
    "Inflation Rate: The monthly inflation rate in Nigeria, reflecting the change in consumer prices.\n",
    "\n",
    "Crude Oil Price: The monthly average price of crude oil, which plays a significant role in Nigeria's economy.\n",
    "\n",
    "Production and Export: Monthly crude oil production and export figures, representing key components of Nigeria's GDP.\n",
    "\n",
    "CPI Components: Detailed breakdown of the Consumer Price Index, including food, energy, health, transport, communication, and education.\n"
   ]
  },
  {
   "cell_type": "markdown",
   "id": "db1885e9-e9a3-45ec-8c84-66dd3879b9d4",
   "metadata": {},
   "source": [
    "**Import Statements and Dataset**: The necessary libraries and modules are imported, and the dataset is loaded into the model.\n",
    "\n",
    "import pandas as pd\n",
    "\n",
    "import numpy as np\n",
    "\n",
    "import matplotlib.pyplot as plt\n",
    "\n",
    "from sklearn.preprocessing import MinMaxScaler\n",
    "\n",
    "import tensorflow as tf\n",
    "\n",
    "from tensorflow.keras.models import Sequential\n",
    "\n",
    "from tensorflow.keras.layers import LSTM, Dense, Drop\n",
    "\n",
    "from tensorflow.keras.layers import GRU, Dense\n",
    "\n",
    "from tensorflow.keras.callbacks import EarlyStopping.\n"
   ]
  },
  {
   "cell_type": "markdown",
   "id": "941d5956-7d80-4eb3-948e-c4d478f6be41",
   "metadata": {},
   "source": [
    "**Data Splitting**\n",
    "\n",
    "The dataset contains both features (independent variables) and the target variable (inflation rate)\n",
    "\n",
    "• X (features): ( 'Crude Oil Price', 'Production', 'Crude Oil Export', 'CPI_Food', 'CPI_Energy', 'CPI_Health', 'CPI_Transport', 'CPI_Communication', 'CPI_Education', 'Date')\n",
    "\n",
    "• y (target): Inflation rate\n",
    "\n",
    "The data is split into training and test sets, with an 80%/20% ratio for training and testing, respectively:\n",
    "\n",
    "df_model = df[['Date'] + features + [target]]-Time series data"
   ]
  },
  {
   "cell_type": "markdown",
   "id": "30815a26-23f4-436b-87d3-4a3aa6403e81",
   "metadata": {},
   "source": [
    "**Model Training**\n",
    "\n",
    "The Long Short-Term Memory (LSTM) network was trained using time-series economic data to learn long-term dependencies in inflation trends. The model was compiled using the Adam optimizer and the Mean Squared Error (MSE) loss function. Training was carried out over 50 epochs with a batch size tailored to the dataset, allowing the model to adjust its internal weights iteratively to minimize prediction error. WHILE\n",
    "The Gated Recurrent Unit (GRU) model follows a similar training procedure but uses more simplified architecture compared to LSTM. GRU is generally faster to train and requires fewer computational resources. The model was also compiled with the Adam optimizer and MSE loss function and trained for 50 epochs.\n"
   ]
  },
  {
   "cell_type": "markdown",
   "id": "847d5149-522a-4116-bc23-0199d261b3ce",
   "metadata": {},
   "source": [
    "**Model Evaluation**\n",
    "\n",
    "Both models are evaluated based on loss (training error) and val_loss (validation error). Lower validation loss indicates better generalization and performance on unseen data.\n",
    "\n",
    " GRU Model \n",
    "\n",
    "•\tInitial val_loss: 0.0335 (Epoch 1)\n",
    "\n",
    "•\tBest val_loss: 0.0335 (Epoch 1)\n",
    "\n",
    "•\tFinal val_loss: 0.1424 (Epoch 4)\n",
    "\n",
    "Result indicates:\n",
    "\n",
    "o\tStrong start with lowest validation loss at the very first epoch.\n",
    "\n",
    "o\tValidation loss increased consistently after Epoch 1.\n",
    "\n",
    "o\tNo significant improvement beyond the initial result.\n",
    "\n",
    "o\tModel likely underfit or failed to learn deeper patterns from the data.\n",
    "\n",
    "LSTM Model \n",
    "\n",
    "•\tInitial val_loss: 0.0073 (Epoch 1)\n",
    "\n",
    "•\tBest val_loss: 0.0015 (Epoch 20) ← lowest among both models\n",
    "\n",
    "•\tFinal val_loss: 0.1165 (Epoch 50)\n",
    "\n",
    "Result indicates:\n",
    "\n",
    "o\tStrong early performance (Epochs 10–20), with consistency improvement.\n",
    "\n",
    "o\tBegins to overfit severely after Epoch 25 with rising validation loss\n",
    "\n",
    "o\tBest generalization performance around Epoch 18.\n",
    "\n",
    "o\tPerformance becomes less stable in later epochs, but best performance remained superior to GRU\n"
   ]
  },
  {
   "cell_type": "markdown",
   "id": "bd960085-18a0-415f-a371-9f0a4c12332a",
   "metadata": {},
   "source": [
    "**Conclusion**: \n",
    "\n",
    "GRU model showed a strong start but it was unable to improve beyond the initial epoch and demonstrated signs of underfitting, making it less ideal for capturing complex temporal patterns in the data. While the LSTM model, achieved better overall performance, reaching a lower minimum validation loss (0.0019). However, it did show signs of overfitting in later epochs. LSTM is the better performing model in terms of predicting inflation_rate with this dataset."
   ]
  },
  {
   "cell_type": "markdown",
   "id": "df1ad0c2-740c-4ae2-90af-d009733bdf0c",
   "metadata": {},
   "source": [
    "Further Improvement could be done boosting LSTM performance:\n",
    "\n",
    "•\tEarly stopping (monitoring val_loss)\n",
    "\n",
    "•\tDropout regularization\n",
    "\n",
    "•\tReducing model complexity\n",
    "\n",
    "•\tMore data or augmentation\n"
   ]
  },
  {
   "cell_type": "code",
   "execution_count": null,
   "id": "825998ef-b388-4bba-b699-21556b02dbe5",
   "metadata": {},
   "outputs": [],
   "source": []
  }
 ],
 "metadata": {
  "kernelspec": {
   "display_name": "Python 3 (ipykernel)",
   "language": "python",
   "name": "python3"
  },
  "language_info": {
   "codemirror_mode": {
    "name": "ipython",
    "version": 3
   },
   "file_extension": ".py",
   "mimetype": "text/x-python",
   "name": "python",
   "nbconvert_exporter": "python",
   "pygments_lexer": "ipython3",
   "version": "3.13.0"
  }
 },
 "nbformat": 4,
 "nbformat_minor": 5
}
