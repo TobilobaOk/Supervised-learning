{
 "cells": [
  {
   "cell_type": "markdown",
   "id": "ca6ea27f-7236-4137-a2bb-3383d22d1447",
   "metadata": {},
   "source": [
    "**Time Series Forecasting with LSTM (LONG SHORT TERM MEMORY NETWORK)**"
   ]
  },
  {
   "cell_type": "code",
   "execution_count": 27,
   "id": "14a6eb0f-6efd-408c-ae26-8ab601a8f8bc",
   "metadata": {},
   "outputs": [
    {
     "data": {
      "text/html": [
       "<div>\n",
       "<style scoped>\n",
       "    .dataframe tbody tr th:only-of-type {\n",
       "        vertical-align: middle;\n",
       "    }\n",
       "\n",
       "    .dataframe tbody tr th {\n",
       "        vertical-align: top;\n",
       "    }\n",
       "\n",
       "    .dataframe thead th {\n",
       "        text-align: right;\n",
       "    }\n",
       "</style>\n",
       "<table border=\"1\" class=\"dataframe\">\n",
       "  <thead>\n",
       "    <tr style=\"text-align: right;\">\n",
       "      <th></th>\n",
       "      <th>Year,Month,Inflation_Rate,Crude Oil Price,Production,Crude Oil Export,CPI_Food,CPI_Energy,CPI_Health,CPI_Transport,CPI_Communication,CPI_Education</th>\n",
       "    </tr>\n",
       "  </thead>\n",
       "  <tbody>\n",
       "    <tr>\n",
       "      <th>0</th>\n",
       "      <td>2008,1,8.6,94.26,2.17,1.72,75.53443079,84.6128...</td>\n",
       "    </tr>\n",
       "    <tr>\n",
       "      <th>1</th>\n",
       "      <td>2008,2,8,98.15,2.08,1.63,75.15418502,85.231632...</td>\n",
       "    </tr>\n",
       "    <tr>\n",
       "      <th>2</th>\n",
       "      <td>2008,3,7.8,103.73,2.06,1.61,78.24252261,83.251...</td>\n",
       "    </tr>\n",
       "    <tr>\n",
       "      <th>3</th>\n",
       "      <td>2008,4,8.2,116.73,1.96,1.51,79.43426849,84.348...</td>\n",
       "    </tr>\n",
       "    <tr>\n",
       "      <th>4</th>\n",
       "      <td>2008,5,9.7,126.57,2.05,1.6,80.78367725,85.5740...</td>\n",
       "    </tr>\n",
       "  </tbody>\n",
       "</table>\n",
       "</div>"
      ],
      "text/plain": [
       "  Year,Month,Inflation_Rate,Crude Oil Price,Production,Crude Oil Export,CPI_Food,CPI_Energy,CPI_Health,CPI_Transport,CPI_Communication,CPI_Education\n",
       "0  2008,1,8.6,94.26,2.17,1.72,75.53443079,84.6128...                                                                                                \n",
       "1  2008,2,8,98.15,2.08,1.63,75.15418502,85.231632...                                                                                                \n",
       "2  2008,3,7.8,103.73,2.06,1.61,78.24252261,83.251...                                                                                                \n",
       "3  2008,4,8.2,116.73,1.96,1.51,79.43426849,84.348...                                                                                                \n",
       "4  2008,5,9.7,126.57,2.05,1.6,80.78367725,85.5740...                                                                                                "
      ]
     },
     "execution_count": 27,
     "metadata": {},
     "output_type": "execute_result"
    }
   ],
   "source": [
    "import pandas as pd\n",
    "\n",
    "# Load the dataset\n",
    "df = pd.read_csv(\"Nigeria_Inflation.csv\")\n",
    "\n",
    "# Show the first few rows\n",
    "df.head()"
   ]
  },
  {
   "cell_type": "markdown",
   "id": "88c293b1-bfe4-4e03-a826-63fac6109bd5",
   "metadata": {},
   "source": [
    "**Clean and Prepare Data**"
   ]
  },
  {
   "cell_type": "markdown",
   "id": "00ed34ad-040c-4578-97ad-3db36c420e4f",
   "metadata": {},
   "source": [
    "The dataset is currently read as a single column of text, which means the CSV file likely has no proper delimiter specified during reading."
   ]
  },
  {
   "cell_type": "code",
   "execution_count": 28,
   "id": "d455bf93-6f39-4513-80f5-e9f9c0624ea2",
   "metadata": {},
   "outputs": [],
   "source": [
    "#Let's fix this by specifying the correct delimiter (most likely a comma) \n",
    "#and properly splitting it into individual columns. \n",
    "\n",
    "df = pd.read_csv(\"Nigeria_Inflation.csv\", header=None)\n",
    "split_df = df[0].str.split(\",\", expand=True)\n",
    "split_df.columns = split_df.iloc[0]\n",
    "df = split_df[1:].reset_index(drop=True)"
   ]
  },
  {
   "cell_type": "code",
   "execution_count": 29,
   "id": "0d6b62f0-3761-415c-b261-9ffb1b8ead0d",
   "metadata": {},
   "outputs": [
    {
     "data": {
      "text/html": [
       "<div>\n",
       "<style scoped>\n",
       "    .dataframe tbody tr th:only-of-type {\n",
       "        vertical-align: middle;\n",
       "    }\n",
       "\n",
       "    .dataframe tbody tr th {\n",
       "        vertical-align: top;\n",
       "    }\n",
       "\n",
       "    .dataframe thead th {\n",
       "        text-align: right;\n",
       "    }\n",
       "</style>\n",
       "<table border=\"1\" class=\"dataframe\">\n",
       "  <thead>\n",
       "    <tr style=\"text-align: right;\">\n",
       "      <th></th>\n",
       "      <th>Year</th>\n",
       "      <th>Month</th>\n",
       "      <th>Inflation_Rate</th>\n",
       "      <th>Crude Oil Price</th>\n",
       "      <th>Production</th>\n",
       "      <th>Crude Oil Export</th>\n",
       "      <th>CPI_Food</th>\n",
       "      <th>CPI_Energy</th>\n",
       "      <th>CPI_Health</th>\n",
       "      <th>CPI_Transport</th>\n",
       "      <th>CPI_Communication</th>\n",
       "      <th>CPI_Education</th>\n",
       "    </tr>\n",
       "  </thead>\n",
       "  <tbody>\n",
       "    <tr>\n",
       "      <th>0</th>\n",
       "      <td>2008</td>\n",
       "      <td>1</td>\n",
       "      <td>8.6</td>\n",
       "      <td>94.26</td>\n",
       "      <td>2.17</td>\n",
       "      <td>1.72</td>\n",
       "      <td>75.53443079</td>\n",
       "      <td>84.612846</td>\n",
       "      <td>83.86313858</td>\n",
       "      <td>86.53003755</td>\n",
       "      <td>83.12944045</td>\n",
       "      <td>75.2844657</td>\n",
       "    </tr>\n",
       "    <tr>\n",
       "      <th>1</th>\n",
       "      <td>2008</td>\n",
       "      <td>2</td>\n",
       "      <td>8</td>\n",
       "      <td>98.15</td>\n",
       "      <td>2.08</td>\n",
       "      <td>1.63</td>\n",
       "      <td>75.15418502</td>\n",
       "      <td>85.23163236</td>\n",
       "      <td>83.3658912</td>\n",
       "      <td>88.35523571</td>\n",
       "      <td>82.88981376</td>\n",
       "      <td>75.45761873</td>\n",
       "    </tr>\n",
       "    <tr>\n",
       "      <th>2</th>\n",
       "      <td>2008</td>\n",
       "      <td>3</td>\n",
       "      <td>7.8</td>\n",
       "      <td>103.73</td>\n",
       "      <td>2.06</td>\n",
       "      <td>1.61</td>\n",
       "      <td>78.24252261</td>\n",
       "      <td>83.25151603</td>\n",
       "      <td>86.08299296</td>\n",
       "      <td>84.37630371</td>\n",
       "      <td>81.89347122</td>\n",
       "      <td>74.82684697</td>\n",
       "    </tr>\n",
       "    <tr>\n",
       "      <th>3</th>\n",
       "      <td>2008</td>\n",
       "      <td>4</td>\n",
       "      <td>8.2</td>\n",
       "      <td>116.73</td>\n",
       "      <td>1.96</td>\n",
       "      <td>1.51</td>\n",
       "      <td>79.43426849</td>\n",
       "      <td>84.34883049</td>\n",
       "      <td>89.44533239</td>\n",
       "      <td>88.60033375</td>\n",
       "      <td>93.93786522</td>\n",
       "      <td>73.66424802</td>\n",
       "    </tr>\n",
       "    <tr>\n",
       "      <th>4</th>\n",
       "      <td>2008</td>\n",
       "      <td>5</td>\n",
       "      <td>9.7</td>\n",
       "      <td>126.57</td>\n",
       "      <td>2.05</td>\n",
       "      <td>1.6</td>\n",
       "      <td>80.78367725</td>\n",
       "      <td>85.57402747</td>\n",
       "      <td>90.54046055</td>\n",
       "      <td>87.93283271</td>\n",
       "      <td>97.55328541</td>\n",
       "      <td>74.88044195</td>\n",
       "    </tr>\n",
       "    <tr>\n",
       "      <th>...</th>\n",
       "      <td>...</td>\n",
       "      <td>...</td>\n",
       "      <td>...</td>\n",
       "      <td>...</td>\n",
       "      <td>...</td>\n",
       "      <td>...</td>\n",
       "      <td>...</td>\n",
       "      <td>...</td>\n",
       "      <td>...</td>\n",
       "      <td>...</td>\n",
       "      <td>...</td>\n",
       "      <td>...</td>\n",
       "    </tr>\n",
       "    <tr>\n",
       "      <th>193</th>\n",
       "      <td>2024</td>\n",
       "      <td>2</td>\n",
       "      <td>31.7</td>\n",
       "      <td>86.08</td>\n",
       "      <td>1.32</td>\n",
       "      <td>0.87</td>\n",
       "      <td>846.8465333</td>\n",
       "      <td>543.8939686</td>\n",
       "      <td>494.8445684</td>\n",
       "      <td>570.0340878</td>\n",
       "      <td>234.2289477</td>\n",
       "      <td>469.8997124</td>\n",
       "    </tr>\n",
       "    <tr>\n",
       "      <th>194</th>\n",
       "      <td>2024</td>\n",
       "      <td>3</td>\n",
       "      <td>33.2</td>\n",
       "      <td>88.8</td>\n",
       "      <td>1.23</td>\n",
       "      <td>0.78</td>\n",
       "      <td>877.4728633</td>\n",
       "      <td>558.8130161</td>\n",
       "      <td>502.9126866</td>\n",
       "      <td>579.8214526</td>\n",
       "      <td>234.6946536</td>\n",
       "      <td>476.8902921</td>\n",
       "    </tr>\n",
       "    <tr>\n",
       "      <th>195</th>\n",
       "      <td>2024</td>\n",
       "      <td>4</td>\n",
       "      <td>33.69</td>\n",
       "      <td>93.12</td>\n",
       "      <td>1.28</td>\n",
       "      <td>0.83</td>\n",
       "      <td>899.4533859</td>\n",
       "      <td>571.960431</td>\n",
       "      <td>510.0958787</td>\n",
       "      <td>592.2827526</td>\n",
       "      <td>235.3359754</td>\n",
       "      <td>483.7198405</td>\n",
       "    </tr>\n",
       "    <tr>\n",
       "      <th>196</th>\n",
       "      <td>2024</td>\n",
       "      <td>5</td>\n",
       "      <td>33.95</td>\n",
       "      <td>84.01</td>\n",
       "      <td>1.25</td>\n",
       "      <td>0.8</td>\n",
       "      <td>920.0052812</td>\n",
       "      <td>583.8941583</td>\n",
       "      <td>517.3917841</td>\n",
       "      <td>606.4080759</td>\n",
       "      <td>235.8504055</td>\n",
       "      <td>490.7797919</td>\n",
       "    </tr>\n",
       "    <tr>\n",
       "      <th>197</th>\n",
       "      <td>2024</td>\n",
       "      <td>6</td>\n",
       "      <td>34.19</td>\n",
       "      <td>83.64</td>\n",
       "      <td>1.28</td>\n",
       "      <td>0.83</td>\n",
       "      <td>943.458769</td>\n",
       "      <td>596.4960221</td>\n",
       "      <td>524.7477114</td>\n",
       "      <td>620.9662515</td>\n",
       "      <td>236.0619864</td>\n",
       "      <td>498.2422389</td>\n",
       "    </tr>\n",
       "  </tbody>\n",
       "</table>\n",
       "<p>198 rows × 12 columns</p>\n",
       "</div>"
      ],
      "text/plain": [
       "0    Year Month Inflation_Rate Crude Oil Price Production Crude Oil Export  \\\n",
       "0    2008     1            8.6           94.26       2.17             1.72   \n",
       "1    2008     2              8           98.15       2.08             1.63   \n",
       "2    2008     3            7.8          103.73       2.06             1.61   \n",
       "3    2008     4            8.2          116.73       1.96             1.51   \n",
       "4    2008     5            9.7          126.57       2.05              1.6   \n",
       "..    ...   ...            ...             ...        ...              ...   \n",
       "193  2024     2           31.7           86.08       1.32             0.87   \n",
       "194  2024     3           33.2            88.8       1.23             0.78   \n",
       "195  2024     4          33.69           93.12       1.28             0.83   \n",
       "196  2024     5          33.95           84.01       1.25              0.8   \n",
       "197  2024     6          34.19           83.64       1.28             0.83   \n",
       "\n",
       "0       CPI_Food   CPI_Energy   CPI_Health CPI_Transport CPI_Communication  \\\n",
       "0    75.53443079    84.612846  83.86313858   86.53003755       83.12944045   \n",
       "1    75.15418502  85.23163236   83.3658912   88.35523571       82.88981376   \n",
       "2    78.24252261  83.25151603  86.08299296   84.37630371       81.89347122   \n",
       "3    79.43426849  84.34883049  89.44533239   88.60033375       93.93786522   \n",
       "4    80.78367725  85.57402747  90.54046055   87.93283271       97.55328541   \n",
       "..           ...          ...          ...           ...               ...   \n",
       "193  846.8465333  543.8939686  494.8445684   570.0340878       234.2289477   \n",
       "194  877.4728633  558.8130161  502.9126866   579.8214526       234.6946536   \n",
       "195  899.4533859   571.960431  510.0958787   592.2827526       235.3359754   \n",
       "196  920.0052812  583.8941583  517.3917841   606.4080759       235.8504055   \n",
       "197   943.458769  596.4960221  524.7477114   620.9662515       236.0619864   \n",
       "\n",
       "0   CPI_Education  \n",
       "0      75.2844657  \n",
       "1     75.45761873  \n",
       "2     74.82684697  \n",
       "3     73.66424802  \n",
       "4     74.88044195  \n",
       "..            ...  \n",
       "193   469.8997124  \n",
       "194   476.8902921  \n",
       "195   483.7198405  \n",
       "196   490.7797919  \n",
       "197   498.2422389  \n",
       "\n",
       "[198 rows x 12 columns]"
      ]
     },
     "execution_count": 29,
     "metadata": {},
     "output_type": "execute_result"
    }
   ],
   "source": [
    "df"
   ]
  },
  {
   "cell_type": "markdown",
   "id": "a0f42b43-f4ab-4e1c-8309-6905b0b5f141",
   "metadata": {},
   "source": [
    "**Add a Date column**"
   ]
  },
  {
   "cell_type": "code",
   "execution_count": 31,
   "id": "684328ae-2ce1-4a89-b490-cdcb4261ed33",
   "metadata": {},
   "outputs": [],
   "source": [
    "# Combine 'Year' and 'Month' into a datetime column\n",
    "df['Date'] = pd.to_datetime(df['Year'] + '-' + df['Month'], errors='coerce')"
   ]
  },
  {
   "cell_type": "code",
   "execution_count": 32,
   "id": "f79a7b23-09e3-4feb-82bd-6741255e2b2f",
   "metadata": {},
   "outputs": [],
   "source": [
    "# Convert numeric columns\n",
    "numeric_columns = df.columns.drop(['Year', 'Month', 'Date'])\n",
    "for col in numeric_columns:\n",
    "    df[col] = pd.to_numeric(df[col], errors='coerce')"
   ]
  },
  {
   "cell_type": "code",
   "execution_count": 33,
   "id": "42206b0a-51cb-495b-94ec-1a412670af73",
   "metadata": {},
   "outputs": [
    {
     "data": {
      "text/plain": [
       "Index(['Inflation_Rate', 'Crude Oil Price', 'Production', 'Crude Oil Export',\n",
       "       'CPI_Food', 'CPI_Energy', 'CPI_Health', 'CPI_Transport',\n",
       "       'CPI_Communication', 'CPI_Education'],\n",
       "      dtype='object', name=0)"
      ]
     },
     "execution_count": 33,
     "metadata": {},
     "output_type": "execute_result"
    }
   ],
   "source": [
    "numeric_columns"
   ]
  },
  {
   "cell_type": "code",
   "execution_count": 34,
   "id": "eb318613-4729-4e6c-976f-eae186af85ad",
   "metadata": {},
   "outputs": [],
   "source": [
    "# Sort by date\n",
    "df = df.sort_values(by='Date').reset_index(drop=True)"
   ]
  },
  {
   "cell_type": "code",
   "execution_count": 35,
   "id": "f68c1bc4-f9e2-4cca-ba01-e7045a523d80",
   "metadata": {},
   "outputs": [
    {
     "name": "stdout",
     "output_type": "stream",
     "text": [
      "0       Date  Inflation_Rate  Crude Oil Price  Production  Crude Oil Export  \\\n",
      "0 2008-01-01             8.6            94.26        2.17              1.72   \n",
      "1 2008-02-01             8.0            98.15        2.08              1.63   \n",
      "2 2008-03-01             7.8           103.73        2.06              1.61   \n",
      "3 2008-04-01             8.2           116.73        1.96              1.51   \n",
      "4 2008-05-01             9.7           126.57        2.05              1.60   \n",
      "\n",
      "0   CPI_Food  CPI_Energy  CPI_Health  CPI_Transport  CPI_Communication  \\\n",
      "0  75.534431   84.612846   83.863139      86.530038          83.129440   \n",
      "1  75.154185   85.231632   83.365891      88.355236          82.889814   \n",
      "2  78.242523   83.251516   86.082993      84.376304          81.893471   \n",
      "3  79.434268   84.348830   89.445332      88.600334          93.937865   \n",
      "4  80.783677   85.574027   90.540461      87.932833          97.553285   \n",
      "\n",
      "0  CPI_Education  \n",
      "0      75.284466  \n",
      "1      75.457619  \n",
      "2      74.826847  \n",
      "3      73.664248  \n",
      "4      74.880442  \n"
     ]
    }
   ],
   "source": [
    "# View result\n",
    "print(df[['Date'] + list(numeric_columns)].head())"
   ]
  },
  {
   "cell_type": "markdown",
   "id": "149ed0c9-8555-411c-87c2-e23c34234e79",
   "metadata": {},
   "source": [
    "**Drop Missing Value**"
   ]
  },
  {
   "cell_type": "code",
   "execution_count": 36,
   "id": "3899a26c-d5ba-4b77-ac9d-099ff14318d3",
   "metadata": {},
   "outputs": [
    {
     "data": {
      "text/html": [
       "<div>\n",
       "<style scoped>\n",
       "    .dataframe tbody tr th:only-of-type {\n",
       "        vertical-align: middle;\n",
       "    }\n",
       "\n",
       "    .dataframe tbody tr th {\n",
       "        vertical-align: top;\n",
       "    }\n",
       "\n",
       "    .dataframe thead th {\n",
       "        text-align: right;\n",
       "    }\n",
       "</style>\n",
       "<table border=\"1\" class=\"dataframe\">\n",
       "  <thead>\n",
       "    <tr style=\"text-align: right;\">\n",
       "      <th></th>\n",
       "      <th>Year</th>\n",
       "      <th>Month</th>\n",
       "      <th>Inflation_Rate</th>\n",
       "      <th>Crude Oil Price</th>\n",
       "      <th>Production</th>\n",
       "      <th>Crude Oil Export</th>\n",
       "      <th>CPI_Food</th>\n",
       "      <th>CPI_Energy</th>\n",
       "      <th>CPI_Health</th>\n",
       "      <th>CPI_Transport</th>\n",
       "      <th>CPI_Communication</th>\n",
       "      <th>CPI_Education</th>\n",
       "      <th>Date</th>\n",
       "    </tr>\n",
       "  </thead>\n",
       "  <tbody>\n",
       "    <tr>\n",
       "      <th>0</th>\n",
       "      <td>2008</td>\n",
       "      <td>1</td>\n",
       "      <td>8.60</td>\n",
       "      <td>94.26</td>\n",
       "      <td>2.17</td>\n",
       "      <td>1.72</td>\n",
       "      <td>75.534431</td>\n",
       "      <td>84.612846</td>\n",
       "      <td>83.863139</td>\n",
       "      <td>86.530038</td>\n",
       "      <td>83.129440</td>\n",
       "      <td>75.284466</td>\n",
       "      <td>2008-01-01</td>\n",
       "    </tr>\n",
       "    <tr>\n",
       "      <th>1</th>\n",
       "      <td>2008</td>\n",
       "      <td>2</td>\n",
       "      <td>8.00</td>\n",
       "      <td>98.15</td>\n",
       "      <td>2.08</td>\n",
       "      <td>1.63</td>\n",
       "      <td>75.154185</td>\n",
       "      <td>85.231632</td>\n",
       "      <td>83.365891</td>\n",
       "      <td>88.355236</td>\n",
       "      <td>82.889814</td>\n",
       "      <td>75.457619</td>\n",
       "      <td>2008-02-01</td>\n",
       "    </tr>\n",
       "    <tr>\n",
       "      <th>2</th>\n",
       "      <td>2008</td>\n",
       "      <td>3</td>\n",
       "      <td>7.80</td>\n",
       "      <td>103.73</td>\n",
       "      <td>2.06</td>\n",
       "      <td>1.61</td>\n",
       "      <td>78.242523</td>\n",
       "      <td>83.251516</td>\n",
       "      <td>86.082993</td>\n",
       "      <td>84.376304</td>\n",
       "      <td>81.893471</td>\n",
       "      <td>74.826847</td>\n",
       "      <td>2008-03-01</td>\n",
       "    </tr>\n",
       "    <tr>\n",
       "      <th>3</th>\n",
       "      <td>2008</td>\n",
       "      <td>4</td>\n",
       "      <td>8.20</td>\n",
       "      <td>116.73</td>\n",
       "      <td>1.96</td>\n",
       "      <td>1.51</td>\n",
       "      <td>79.434268</td>\n",
       "      <td>84.348830</td>\n",
       "      <td>89.445332</td>\n",
       "      <td>88.600334</td>\n",
       "      <td>93.937865</td>\n",
       "      <td>73.664248</td>\n",
       "      <td>2008-04-01</td>\n",
       "    </tr>\n",
       "    <tr>\n",
       "      <th>4</th>\n",
       "      <td>2008</td>\n",
       "      <td>5</td>\n",
       "      <td>9.70</td>\n",
       "      <td>126.57</td>\n",
       "      <td>2.05</td>\n",
       "      <td>1.60</td>\n",
       "      <td>80.783677</td>\n",
       "      <td>85.574027</td>\n",
       "      <td>90.540461</td>\n",
       "      <td>87.932833</td>\n",
       "      <td>97.553285</td>\n",
       "      <td>74.880442</td>\n",
       "      <td>2008-05-01</td>\n",
       "    </tr>\n",
       "    <tr>\n",
       "      <th>...</th>\n",
       "      <td>...</td>\n",
       "      <td>...</td>\n",
       "      <td>...</td>\n",
       "      <td>...</td>\n",
       "      <td>...</td>\n",
       "      <td>...</td>\n",
       "      <td>...</td>\n",
       "      <td>...</td>\n",
       "      <td>...</td>\n",
       "      <td>...</td>\n",
       "      <td>...</td>\n",
       "      <td>...</td>\n",
       "      <td>...</td>\n",
       "    </tr>\n",
       "    <tr>\n",
       "      <th>192</th>\n",
       "      <td>2024</td>\n",
       "      <td>2</td>\n",
       "      <td>31.70</td>\n",
       "      <td>86.08</td>\n",
       "      <td>1.32</td>\n",
       "      <td>0.87</td>\n",
       "      <td>846.846533</td>\n",
       "      <td>543.893969</td>\n",
       "      <td>494.844568</td>\n",
       "      <td>570.034088</td>\n",
       "      <td>234.228948</td>\n",
       "      <td>469.899712</td>\n",
       "      <td>2024-02-01</td>\n",
       "    </tr>\n",
       "    <tr>\n",
       "      <th>193</th>\n",
       "      <td>2024</td>\n",
       "      <td>3</td>\n",
       "      <td>33.20</td>\n",
       "      <td>88.80</td>\n",
       "      <td>1.23</td>\n",
       "      <td>0.78</td>\n",
       "      <td>877.472863</td>\n",
       "      <td>558.813016</td>\n",
       "      <td>502.912687</td>\n",
       "      <td>579.821453</td>\n",
       "      <td>234.694654</td>\n",
       "      <td>476.890292</td>\n",
       "      <td>2024-03-01</td>\n",
       "    </tr>\n",
       "    <tr>\n",
       "      <th>194</th>\n",
       "      <td>2024</td>\n",
       "      <td>4</td>\n",
       "      <td>33.69</td>\n",
       "      <td>93.12</td>\n",
       "      <td>1.28</td>\n",
       "      <td>0.83</td>\n",
       "      <td>899.453386</td>\n",
       "      <td>571.960431</td>\n",
       "      <td>510.095879</td>\n",
       "      <td>592.282753</td>\n",
       "      <td>235.335975</td>\n",
       "      <td>483.719840</td>\n",
       "      <td>2024-04-01</td>\n",
       "    </tr>\n",
       "    <tr>\n",
       "      <th>195</th>\n",
       "      <td>2024</td>\n",
       "      <td>5</td>\n",
       "      <td>33.95</td>\n",
       "      <td>84.01</td>\n",
       "      <td>1.25</td>\n",
       "      <td>0.80</td>\n",
       "      <td>920.005281</td>\n",
       "      <td>583.894158</td>\n",
       "      <td>517.391784</td>\n",
       "      <td>606.408076</td>\n",
       "      <td>235.850405</td>\n",
       "      <td>490.779792</td>\n",
       "      <td>2024-05-01</td>\n",
       "    </tr>\n",
       "    <tr>\n",
       "      <th>196</th>\n",
       "      <td>2024</td>\n",
       "      <td>6</td>\n",
       "      <td>34.19</td>\n",
       "      <td>83.64</td>\n",
       "      <td>1.28</td>\n",
       "      <td>0.83</td>\n",
       "      <td>943.458769</td>\n",
       "      <td>596.496022</td>\n",
       "      <td>524.747711</td>\n",
       "      <td>620.966251</td>\n",
       "      <td>236.061986</td>\n",
       "      <td>498.242239</td>\n",
       "      <td>2024-06-01</td>\n",
       "    </tr>\n",
       "  </tbody>\n",
       "</table>\n",
       "<p>197 rows × 13 columns</p>\n",
       "</div>"
      ],
      "text/plain": [
       "0    Year Month  Inflation_Rate  Crude Oil Price  Production  \\\n",
       "0    2008     1            8.60            94.26        2.17   \n",
       "1    2008     2            8.00            98.15        2.08   \n",
       "2    2008     3            7.80           103.73        2.06   \n",
       "3    2008     4            8.20           116.73        1.96   \n",
       "4    2008     5            9.70           126.57        2.05   \n",
       "..    ...   ...             ...              ...         ...   \n",
       "192  2024     2           31.70            86.08        1.32   \n",
       "193  2024     3           33.20            88.80        1.23   \n",
       "194  2024     4           33.69            93.12        1.28   \n",
       "195  2024     5           33.95            84.01        1.25   \n",
       "196  2024     6           34.19            83.64        1.28   \n",
       "\n",
       "0    Crude Oil Export    CPI_Food  CPI_Energy  CPI_Health  CPI_Transport  \\\n",
       "0                1.72   75.534431   84.612846   83.863139      86.530038   \n",
       "1                1.63   75.154185   85.231632   83.365891      88.355236   \n",
       "2                1.61   78.242523   83.251516   86.082993      84.376304   \n",
       "3                1.51   79.434268   84.348830   89.445332      88.600334   \n",
       "4                1.60   80.783677   85.574027   90.540461      87.932833   \n",
       "..                ...         ...         ...         ...            ...   \n",
       "192              0.87  846.846533  543.893969  494.844568     570.034088   \n",
       "193              0.78  877.472863  558.813016  502.912687     579.821453   \n",
       "194              0.83  899.453386  571.960431  510.095879     592.282753   \n",
       "195              0.80  920.005281  583.894158  517.391784     606.408076   \n",
       "196              0.83  943.458769  596.496022  524.747711     620.966251   \n",
       "\n",
       "0    CPI_Communication  CPI_Education       Date  \n",
       "0            83.129440      75.284466 2008-01-01  \n",
       "1            82.889814      75.457619 2008-02-01  \n",
       "2            81.893471      74.826847 2008-03-01  \n",
       "3            93.937865      73.664248 2008-04-01  \n",
       "4            97.553285      74.880442 2008-05-01  \n",
       "..                 ...            ...        ...  \n",
       "192         234.228948     469.899712 2024-02-01  \n",
       "193         234.694654     476.890292 2024-03-01  \n",
       "194         235.335975     483.719840 2024-04-01  \n",
       "195         235.850405     490.779792 2024-05-01  \n",
       "196         236.061986     498.242239 2024-06-01  \n",
       "\n",
       "[197 rows x 13 columns]"
      ]
     },
     "execution_count": 36,
     "metadata": {},
     "output_type": "execute_result"
    }
   ],
   "source": [
    "# Drop rows with missing values\n",
    "df.dropna().reset_index(drop=True)"
   ]
  },
  {
   "cell_type": "code",
   "execution_count": 37,
   "id": "26f1066f-062a-4431-88ff-b9778b0aa9df",
   "metadata": {},
   "outputs": [
    {
     "data": {
      "text/plain": [
       "Index(['Year', 'Month', 'Inflation_Rate', 'Crude Oil Price', 'Production',\n",
       "       'Crude Oil Export', 'CPI_Food', 'CPI_Energy', 'CPI_Health',\n",
       "       'CPI_Transport', 'CPI_Communication', 'CPI_Education', 'Date'],\n",
       "      dtype='object', name=0)"
      ]
     },
     "execution_count": 37,
     "metadata": {},
     "output_type": "execute_result"
    }
   ],
   "source": [
    "df.columns"
   ]
  },
  {
   "cell_type": "markdown",
   "id": "9d36dc85-c258-4b90-9c0b-1710b51e739e",
   "metadata": {},
   "source": [
    "**Define Features and Target**"
   ]
  },
  {
   "cell_type": "code",
   "execution_count": 38,
   "id": "6532d795-a36e-447c-8731-47059576c084",
   "metadata": {},
   "outputs": [],
   "source": [
    "import numpy as np\n",
    "from sklearn.preprocessing import MinMaxScaler\n",
    "\n",
    "# Use 'Inflation Rate' as target and other features as predictors\n",
    "features = ['Crude Oil Price', 'Production', 'Crude Oil Export',\n",
    "            'CPI_Food', 'CPI_Energy', 'CPI_Health', 'CPI_Transport',\n",
    "            'CPI_Communication', 'CPI_Education']\n",
    "\n",
    "target = 'Inflation_Rate'"
   ]
  },
  {
   "cell_type": "code",
   "execution_count": 39,
   "id": "d5a23f9d-94b2-430e-af3c-9ea83d6366fc",
   "metadata": {},
   "outputs": [],
   "source": [
    "df_model = df[['Date'] + features + [target]]"
   ]
  },
  {
   "cell_type": "code",
   "execution_count": 40,
   "id": "82c208bc-4d41-4cff-9343-e518a5e4644d",
   "metadata": {},
   "outputs": [],
   "source": [
    "# Scale the features and target\n",
    "scaler = MinMaxScaler()\n",
    "scaled_data = scaler.fit_transform(df_model[features + [target]])"
   ]
  },
  {
   "cell_type": "markdown",
   "id": "129194c4-3319-480b-8f7c-784fd5be9a40",
   "metadata": {},
   "source": [
    "**Create Sequence for LSTM Model**"
   ]
  },
  {
   "cell_type": "code",
   "execution_count": 16,
   "id": "fdaa6682-795d-408d-8b75-daa6c18f397a",
   "metadata": {},
   "outputs": [],
   "source": [
    "# Convert to sequences (e.g., past 12 months → next month)\n",
    "def create_sequences(data, seq_length=12):\n",
    "    X, y = [], []\n",
    "    for i in range(len(data) - seq_length):\n",
    "        X.append(data[i:i + seq_length, :-1])  # Features\n",
    "        y.append(data[i + seq_length, -1])     # Target (Inflation Rate)\n",
    "    return np.array(X), np.array(y)"
   ]
  },
  {
   "cell_type": "code",
   "execution_count": 17,
   "id": "2bdf18b8-e4d4-4bfc-9de9-6190840e4fd4",
   "metadata": {},
   "outputs": [],
   "source": [
    "# Generate sequences\n",
    "X, y = create_sequences(scaled_data, seq_length=12)"
   ]
  },
  {
   "cell_type": "markdown",
   "id": "6a18fc53-f763-4a35-b6ec-863acb80ca6c",
   "metadata": {},
   "source": [
    "**Split Into Training and Test set**"
   ]
  },
  {
   "cell_type": "code",
   "execution_count": 18,
   "id": "4c94038d-bde8-4a9d-bc1a-1b9390305be4",
   "metadata": {},
   "outputs": [],
   "source": [
    "# Train-test split (80-20)\n",
    "split_index = int(len(X) * 0.8)\n",
    "X_train, X_test = X[:split_index], X[split_index:]\n",
    "y_train, y_test = y[:split_index], y[split_index:]"
   ]
  },
  {
   "cell_type": "code",
   "execution_count": 19,
   "id": "d1782bd6-19f7-4d6d-aa77-a764fe92cd09",
   "metadata": {},
   "outputs": [
    {
     "name": "stdout",
     "output_type": "stream",
     "text": [
      "X_train shape: (148, 12, 9)\n",
      "y_train shape: (148,)\n"
     ]
    }
   ],
   "source": [
    "# Show shape of LSTM-ready data\n",
    "print(\"X_train shape:\", X_train.shape)\n",
    "print(\"y_train shape:\", y_train.shape)"
   ]
  },
  {
   "cell_type": "markdown",
   "id": "97ead5b6-8721-49ee-a51b-763a0a8702f6",
   "metadata": {},
   "source": [
    "**Fit Model**"
   ]
  },
  {
   "cell_type": "code",
   "execution_count": 20,
   "id": "79abbee9-beef-4017-a17d-3c07966363e5",
   "metadata": {},
   "outputs": [],
   "source": [
    "import tensorflow as tf\n",
    "from tensorflow.keras.models import Sequential\n",
    "from tensorflow.keras.layers import LSTM, Dense, Dropout"
   ]
  },
  {
   "cell_type": "code",
   "execution_count": 22,
   "id": "03cfd250-7e96-4ab8-8c8c-9b87842832de",
   "metadata": {},
   "outputs": [
    {
     "name": "stderr",
     "output_type": "stream",
     "text": [
      "C:\\Users\\PC\\anaconda3\\Lib\\site-packages\\keras\\src\\layers\\rnn\\rnn.py:200: UserWarning: Do not pass an `input_shape`/`input_dim` argument to a layer. When using Sequential models, prefer using an `Input(shape)` object as the first layer in the model instead.\n",
      "  super().__init__(**kwargs)\n"
     ]
    }
   ],
   "source": [
    "# Define the LSTM model\n",
    "model = Sequential()\n",
    "model.add(LSTM(units=64, return_sequences=True, input_shape=(X_train.shape[1], X_train.shape[2])))\n",
    "model.add(Dropout(0.2))\n",
    "model.add(LSTM(units=32))\n",
    "model.add(Dropout(0.2))\n",
    "model.add(Dense(1))  # Output layer for prediction\n"
   ]
  },
  {
   "cell_type": "code",
   "execution_count": 23,
   "id": "fbb26643-1b61-4dfb-a005-b76492094942",
   "metadata": {},
   "outputs": [],
   "source": [
    "# Compile the model\n",
    "model.compile(optimizer='adam', loss='mean_squared_error')\n"
   ]
  },
  {
   "cell_type": "markdown",
   "id": "cefa6f04-30fa-43ef-a297-97f9c521fadb",
   "metadata": {},
   "source": [
    "**Train Model**"
   ]
  },
  {
   "cell_type": "code",
   "execution_count": 24,
   "id": "22dbd7b5-6970-4bcd-b019-b26c9d0bcb7d",
   "metadata": {},
   "outputs": [
    {
     "name": "stdout",
     "output_type": "stream",
     "text": [
      "Epoch 1/50\n",
      "\u001b[1m9/9\u001b[0m \u001b[32m━━━━━━━━━━━━━━━━━━━━\u001b[0m\u001b[37m\u001b[0m \u001b[1m5s\u001b[0m 90ms/step - loss: 0.0303 - val_loss: 0.0080\n",
      "Epoch 2/50\n",
      "\u001b[1m9/9\u001b[0m \u001b[32m━━━━━━━━━━━━━━━━━━━━\u001b[0m\u001b[37m\u001b[0m \u001b[1m0s\u001b[0m 30ms/step - loss: 0.0123 - val_loss: 0.0095\n",
      "Epoch 3/50\n",
      "\u001b[1m9/9\u001b[0m \u001b[32m━━━━━━━━━━━━━━━━━━━━\u001b[0m\u001b[37m\u001b[0m \u001b[1m0s\u001b[0m 37ms/step - loss: 0.0102 - val_loss: 0.0076\n",
      "Epoch 4/50\n",
      "\u001b[1m9/9\u001b[0m \u001b[32m━━━━━━━━━━━━━━━━━━━━\u001b[0m\u001b[37m\u001b[0m \u001b[1m0s\u001b[0m 37ms/step - loss: 0.0102 - val_loss: 0.0060\n",
      "Epoch 5/50\n",
      "\u001b[1m9/9\u001b[0m \u001b[32m━━━━━━━━━━━━━━━━━━━━\u001b[0m\u001b[37m\u001b[0m \u001b[1m0s\u001b[0m 35ms/step - loss: 0.0091 - val_loss: 0.0067\n",
      "Epoch 6/50\n",
      "\u001b[1m9/9\u001b[0m \u001b[32m━━━━━━━━━━━━━━━━━━━━\u001b[0m\u001b[37m\u001b[0m \u001b[1m0s\u001b[0m 35ms/step - loss: 0.0071 - val_loss: 0.0066\n",
      "Epoch 7/50\n",
      "\u001b[1m9/9\u001b[0m \u001b[32m━━━━━━━━━━━━━━━━━━━━\u001b[0m\u001b[37m\u001b[0m \u001b[1m0s\u001b[0m 41ms/step - loss: 0.0098 - val_loss: 0.0075\n",
      "Epoch 8/50\n",
      "\u001b[1m9/9\u001b[0m \u001b[32m━━━━━━━━━━━━━━━━━━━━\u001b[0m\u001b[37m\u001b[0m \u001b[1m0s\u001b[0m 30ms/step - loss: 0.0070 - val_loss: 0.0093\n",
      "Epoch 9/50\n",
      "\u001b[1m9/9\u001b[0m \u001b[32m━━━━━━━━━━━━━━━━━━━━\u001b[0m\u001b[37m\u001b[0m \u001b[1m0s\u001b[0m 31ms/step - loss: 0.0097 - val_loss: 0.0057\n",
      "Epoch 10/50\n",
      "\u001b[1m9/9\u001b[0m \u001b[32m━━━━━━━━━━━━━━━━━━━━\u001b[0m\u001b[37m\u001b[0m \u001b[1m0s\u001b[0m 30ms/step - loss: 0.0085 - val_loss: 0.0055\n",
      "Epoch 11/50\n",
      "\u001b[1m9/9\u001b[0m \u001b[32m━━━━━━━━━━━━━━━━━━━━\u001b[0m\u001b[37m\u001b[0m \u001b[1m0s\u001b[0m 30ms/step - loss: 0.0080 - val_loss: 0.0041\n",
      "Epoch 12/50\n",
      "\u001b[1m9/9\u001b[0m \u001b[32m━━━━━━━━━━━━━━━━━━━━\u001b[0m\u001b[37m\u001b[0m \u001b[1m0s\u001b[0m 39ms/step - loss: 0.0065 - val_loss: 0.0051\n",
      "Epoch 13/50\n",
      "\u001b[1m9/9\u001b[0m \u001b[32m━━━━━━━━━━━━━━━━━━━━\u001b[0m\u001b[37m\u001b[0m \u001b[1m0s\u001b[0m 44ms/step - loss: 0.0079 - val_loss: 0.0032\n",
      "Epoch 14/50\n",
      "\u001b[1m9/9\u001b[0m \u001b[32m━━━━━━━━━━━━━━━━━━━━\u001b[0m\u001b[37m\u001b[0m \u001b[1m0s\u001b[0m 39ms/step - loss: 0.0076 - val_loss: 0.0030\n",
      "Epoch 15/50\n",
      "\u001b[1m9/9\u001b[0m \u001b[32m━━━━━━━━━━━━━━━━━━━━\u001b[0m\u001b[37m\u001b[0m \u001b[1m0s\u001b[0m 33ms/step - loss: 0.0081 - val_loss: 0.0042\n",
      "Epoch 16/50\n",
      "\u001b[1m9/9\u001b[0m \u001b[32m━━━━━━━━━━━━━━━━━━━━\u001b[0m\u001b[37m\u001b[0m \u001b[1m0s\u001b[0m 39ms/step - loss: 0.0075 - val_loss: 0.0023\n",
      "Epoch 17/50\n",
      "\u001b[1m9/9\u001b[0m \u001b[32m━━━━━━━━━━━━━━━━━━━━\u001b[0m\u001b[37m\u001b[0m \u001b[1m0s\u001b[0m 37ms/step - loss: 0.0063 - val_loss: 0.0035\n",
      "Epoch 18/50\n",
      "\u001b[1m9/9\u001b[0m \u001b[32m━━━━━━━━━━━━━━━━━━━━\u001b[0m\u001b[37m\u001b[0m \u001b[1m0s\u001b[0m 32ms/step - loss: 0.0070 - val_loss: 0.0019\n",
      "Epoch 19/50\n",
      "\u001b[1m9/9\u001b[0m \u001b[32m━━━━━━━━━━━━━━━━━━━━\u001b[0m\u001b[37m\u001b[0m \u001b[1m0s\u001b[0m 35ms/step - loss: 0.0063 - val_loss: 0.0035\n",
      "Epoch 20/50\n",
      "\u001b[1m9/9\u001b[0m \u001b[32m━━━━━━━━━━━━━━━━━━━━\u001b[0m\u001b[37m\u001b[0m \u001b[1m0s\u001b[0m 27ms/step - loss: 0.0067 - val_loss: 0.0064\n",
      "Epoch 21/50\n",
      "\u001b[1m9/9\u001b[0m \u001b[32m━━━━━━━━━━━━━━━━━━━━\u001b[0m\u001b[37m\u001b[0m \u001b[1m0s\u001b[0m 30ms/step - loss: 0.0053 - val_loss: 0.0042\n",
      "Epoch 22/50\n",
      "\u001b[1m9/9\u001b[0m \u001b[32m━━━━━━━━━━━━━━━━━━━━\u001b[0m\u001b[37m\u001b[0m \u001b[1m0s\u001b[0m 37ms/step - loss: 0.0056 - val_loss: 0.0056\n",
      "Epoch 23/50\n",
      "\u001b[1m9/9\u001b[0m \u001b[32m━━━━━━━━━━━━━━━━━━━━\u001b[0m\u001b[37m\u001b[0m \u001b[1m0s\u001b[0m 33ms/step - loss: 0.0051 - val_loss: 0.0432\n",
      "Epoch 24/50\n",
      "\u001b[1m9/9\u001b[0m \u001b[32m━━━━━━━━━━━━━━━━━━━━\u001b[0m\u001b[37m\u001b[0m \u001b[1m0s\u001b[0m 31ms/step - loss: 0.0044 - val_loss: 0.0620\n",
      "Epoch 25/50\n",
      "\u001b[1m9/9\u001b[0m \u001b[32m━━━━━━━━━━━━━━━━━━━━\u001b[0m\u001b[37m\u001b[0m \u001b[1m0s\u001b[0m 30ms/step - loss: 0.0044 - val_loss: 0.0772\n",
      "Epoch 26/50\n",
      "\u001b[1m9/9\u001b[0m \u001b[32m━━━━━━━━━━━━━━━━━━━━\u001b[0m\u001b[37m\u001b[0m \u001b[1m0s\u001b[0m 27ms/step - loss: 0.0044 - val_loss: 0.0767\n",
      "Epoch 27/50\n",
      "\u001b[1m9/9\u001b[0m \u001b[32m━━━━━━━━━━━━━━━━━━━━\u001b[0m\u001b[37m\u001b[0m \u001b[1m0s\u001b[0m 30ms/step - loss: 0.0039 - val_loss: 0.0932\n",
      "Epoch 28/50\n",
      "\u001b[1m9/9\u001b[0m \u001b[32m━━━━━━━━━━━━━━━━━━━━\u001b[0m\u001b[37m\u001b[0m \u001b[1m1s\u001b[0m 57ms/step - loss: 0.0035 - val_loss: 0.1166\n",
      "Epoch 29/50\n",
      "\u001b[1m9/9\u001b[0m \u001b[32m━━━━━━━━━━━━━━━━━━━━\u001b[0m\u001b[37m\u001b[0m \u001b[1m1s\u001b[0m 53ms/step - loss: 0.0042 - val_loss: 0.0886\n",
      "Epoch 30/50\n",
      "\u001b[1m9/9\u001b[0m \u001b[32m━━━━━━━━━━━━━━━━━━━━\u001b[0m\u001b[37m\u001b[0m \u001b[1m1s\u001b[0m 50ms/step - loss: 0.0047 - val_loss: 0.0975\n",
      "Epoch 31/50\n",
      "\u001b[1m9/9\u001b[0m \u001b[32m━━━━━━━━━━━━━━━━━━━━\u001b[0m\u001b[37m\u001b[0m \u001b[1m0s\u001b[0m 38ms/step - loss: 0.0041 - val_loss: 0.1126\n",
      "Epoch 32/50\n",
      "\u001b[1m9/9\u001b[0m \u001b[32m━━━━━━━━━━━━━━━━━━━━\u001b[0m\u001b[37m\u001b[0m \u001b[1m0s\u001b[0m 36ms/step - loss: 0.0039 - val_loss: 0.2217\n",
      "Epoch 33/50\n",
      "\u001b[1m9/9\u001b[0m \u001b[32m━━━━━━━━━━━━━━━━━━━━\u001b[0m\u001b[37m\u001b[0m \u001b[1m0s\u001b[0m 35ms/step - loss: 0.0034 - val_loss: 0.1362\n",
      "Epoch 34/50\n",
      "\u001b[1m9/9\u001b[0m \u001b[32m━━━━━━━━━━━━━━━━━━━━\u001b[0m\u001b[37m\u001b[0m \u001b[1m0s\u001b[0m 42ms/step - loss: 0.0023 - val_loss: 0.2130\n",
      "Epoch 35/50\n",
      "\u001b[1m9/9\u001b[0m \u001b[32m━━━━━━━━━━━━━━━━━━━━\u001b[0m\u001b[37m\u001b[0m \u001b[1m0s\u001b[0m 40ms/step - loss: 0.0029 - val_loss: 0.2533\n",
      "Epoch 36/50\n",
      "\u001b[1m9/9\u001b[0m \u001b[32m━━━━━━━━━━━━━━━━━━━━\u001b[0m\u001b[37m\u001b[0m \u001b[1m0s\u001b[0m 39ms/step - loss: 0.0033 - val_loss: 0.3114\n",
      "Epoch 37/50\n",
      "\u001b[1m9/9\u001b[0m \u001b[32m━━━━━━━━━━━━━━━━━━━━\u001b[0m\u001b[37m\u001b[0m \u001b[1m0s\u001b[0m 36ms/step - loss: 0.0028 - val_loss: 0.1944\n",
      "Epoch 38/50\n",
      "\u001b[1m9/9\u001b[0m \u001b[32m━━━━━━━━━━━━━━━━━━━━\u001b[0m\u001b[37m\u001b[0m \u001b[1m0s\u001b[0m 32ms/step - loss: 0.0026 - val_loss: 0.0827\n",
      "Epoch 39/50\n",
      "\u001b[1m9/9\u001b[0m \u001b[32m━━━━━━━━━━━━━━━━━━━━\u001b[0m\u001b[37m\u001b[0m \u001b[1m0s\u001b[0m 35ms/step - loss: 0.0039 - val_loss: 0.2549\n",
      "Epoch 40/50\n",
      "\u001b[1m9/9\u001b[0m \u001b[32m━━━━━━━━━━━━━━━━━━━━\u001b[0m\u001b[37m\u001b[0m \u001b[1m0s\u001b[0m 31ms/step - loss: 0.0035 - val_loss: 0.1584\n",
      "Epoch 41/50\n",
      "\u001b[1m9/9\u001b[0m \u001b[32m━━━━━━━━━━━━━━━━━━━━\u001b[0m\u001b[37m\u001b[0m \u001b[1m0s\u001b[0m 30ms/step - loss: 0.0024 - val_loss: 0.1358\n",
      "Epoch 42/50\n",
      "\u001b[1m9/9\u001b[0m \u001b[32m━━━━━━━━━━━━━━━━━━━━\u001b[0m\u001b[37m\u001b[0m \u001b[1m0s\u001b[0m 37ms/step - loss: 0.0034 - val_loss: 0.1284\n",
      "Epoch 43/50\n",
      "\u001b[1m9/9\u001b[0m \u001b[32m━━━━━━━━━━━━━━━━━━━━\u001b[0m\u001b[37m\u001b[0m \u001b[1m0s\u001b[0m 31ms/step - loss: 0.0030 - val_loss: 0.1303\n",
      "Epoch 44/50\n",
      "\u001b[1m9/9\u001b[0m \u001b[32m━━━━━━━━━━━━━━━━━━━━\u001b[0m\u001b[37m\u001b[0m \u001b[1m0s\u001b[0m 27ms/step - loss: 0.0031 - val_loss: 0.2767\n",
      "Epoch 45/50\n",
      "\u001b[1m9/9\u001b[0m \u001b[32m━━━━━━━━━━━━━━━━━━━━\u001b[0m\u001b[37m\u001b[0m \u001b[1m0s\u001b[0m 28ms/step - loss: 0.0048 - val_loss: 0.0071\n",
      "Epoch 46/50\n",
      "\u001b[1m9/9\u001b[0m \u001b[32m━━━━━━━━━━━━━━━━━━━━\u001b[0m\u001b[37m\u001b[0m \u001b[1m0s\u001b[0m 32ms/step - loss: 0.0046 - val_loss: 0.0773\n",
      "Epoch 47/50\n",
      "\u001b[1m9/9\u001b[0m \u001b[32m━━━━━━━━━━━━━━━━━━━━\u001b[0m\u001b[37m\u001b[0m \u001b[1m1s\u001b[0m 53ms/step - loss: 0.0039 - val_loss: 0.0603\n",
      "Epoch 48/50\n",
      "\u001b[1m9/9\u001b[0m \u001b[32m━━━━━━━━━━━━━━━━━━━━\u001b[0m\u001b[37m\u001b[0m \u001b[1m0s\u001b[0m 40ms/step - loss: 0.0041 - val_loss: 0.0808\n",
      "Epoch 49/50\n",
      "\u001b[1m9/9\u001b[0m \u001b[32m━━━━━━━━━━━━━━━━━━━━\u001b[0m\u001b[37m\u001b[0m \u001b[1m0s\u001b[0m 32ms/step - loss: 0.0028 - val_loss: 0.1238\n",
      "Epoch 50/50\n",
      "\u001b[1m9/9\u001b[0m \u001b[32m━━━━━━━━━━━━━━━━━━━━\u001b[0m\u001b[37m\u001b[0m \u001b[1m0s\u001b[0m 33ms/step - loss: 0.0036 - val_loss: 0.2288\n"
     ]
    }
   ],
   "source": [
    "# Train the model\n",
    "history = model.fit(X_train, y_train, epochs=50, batch_size=16, validation_split=0.1)"
   ]
  },
  {
   "cell_type": "markdown",
   "id": "5b10649f-e54a-4bb2-953a-bb8239da1602",
   "metadata": {},
   "source": [
    "**Plot Training vs Validation Loss**"
   ]
  },
  {
   "cell_type": "code",
   "execution_count": 25,
   "id": "116fe975-6cf6-4b6c-acf4-bff53bb57a65",
   "metadata": {},
   "outputs": [
    {
     "data": {
      "image/png": "[encoded data removed]",
      "text/plain": [
       "<Figure size 640x480 with 1 Axes>"
      ]
     },
     "metadata": {},
     "output_type": "display_data"
    }
   ],
   "source": [
    "import matplotlib.pyplot as plt\n",
    "\n",
    "plt.plot(history.history['loss'], label='Training Loss')\n",
    "plt.plot(history.history['val_loss'], label='Validation Loss')\n",
    "plt.title('Loss Over Epochs')\n",
    "plt.xlabel('Epoch')\n",
    "plt.ylabel('Loss')\n",
    "plt.legend()\n",
    "plt.show()"
   ]
  },
  {
   "cell_type": "markdown",
   "id": "ea8070be-6696-4e5b-93cc-90944deec188",
   "metadata": {},
   "source": [
    "**Make Predictions on Test Data**"
   ]
  },
  {
   "cell_type": "code",
   "execution_count": 26,
   "id": "da35e58b-4bac-479f-8eea-172a4d5eeea5",
   "metadata": {},
   "outputs": [
    {
     "name": "stdout",
     "output_type": "stream",
     "text": [
      "\u001b[1m2/2\u001b[0m \u001b[32m━━━━━━━━━━━━━━━━━━━━\u001b[0m\u001b[37m\u001b[0m \u001b[1m1s\u001b[0m 645ms/step\n"
     ]
    }
   ],
   "source": [
    "y_pred = model.predict(X_test)"
   ]
  },
  {
   "cell_type": "code",
   "execution_count": 28,
   "id": "54fb510c-af49-45e4-b926-21a32ff0c937",
   "metadata": {},
   "outputs": [],
   "source": [
    "# Create separate scalers\n",
    "feature_scaler = MinMaxScaler()\n",
    "target_scaler = MinMaxScaler()\n",
    "\n",
    "# Scale features and target separately\n",
    "X_scaled = feature_scaler.fit_transform(df[features])\n",
    "y_scaled = target_scaler.fit_transform(df[[target]])  # double brackets to keep it 2D"
   ]
  },
  {
   "cell_type": "code",
   "execution_count": 32,
   "id": "74408f6d-665c-4f10-8fc6-d8a056e9727e",
   "metadata": {},
   "outputs": [],
   "source": [
    "# Inverse transform your predictions and true values using the target scaler\n",
    "y_test_inv = target_scaler.inverse_transform(y_test.reshape(-1, 1))\n",
    "y_pred_inv = target_scaler.inverse_transform(y_pred)"
   ]
  },
  {
   "cell_type": "markdown",
   "id": "c3f40c03-a1e3-4e71-9c67-5c3852db1731",
   "metadata": {},
   "source": [
    " **Plot Actual vs Predicted Inflation Rates**"
   ]
  },
  {
   "cell_type": "code",
   "execution_count": 33,
   "id": "15c1e276-8e6f-470e-9110-d3a9daf89109",
   "metadata": {},
   "outputs": [
    {
     "data": {
      "image/png": "[encoded data removed]",
      "text/plain": [
       "<Figure size 1000x600 with 1 Axes>"
      ]
     },
     "metadata": {},
     "output_type": "display_data"
    }
   ],
   "source": [
    "plt.figure(figsize=(10, 6))\n",
    "plt.plot(y_test_inv, label='Actual Inflation Rate')\n",
    "plt.plot(y_pred_inv, label='Predicted Inflation Rate')\n",
    "plt.title('Actual vs Predicted Inflation Rate')\n",
    "plt.xlabel('Time')\n",
    "plt.ylabel('Inflation Rate')\n",
    "plt.legend()\n",
    "plt.show()"
   ]
  },
  {
   "cell_type": "code",
   "execution_count": null,
   "id": "23f74432-c3ba-4aa2-b895-b583cfaf4d2d",
   "metadata": {},
   "outputs": [],
   "source": []
  }
 ],
 "metadata": {
  "kernelspec": {
   "display_name": "python(Infaltion Project)",
   "language": "python",
   "name": "my_env"
  },
  "language_info": {
   "codemirror_mode": {
    "name": "ipython",
    "version": 3
   },
   "file_extension": ".py",
   "mimetype": "text/x-python",
   "name": "python",
   "nbconvert_exporter": "python",
   "pygments_lexer": "ipython3",
   "version": "3.12.7"
  }
 },
 "nbformat": 4,
 "nbformat_minor": 5
}
