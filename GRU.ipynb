{
 "cells": [
  {
   "cell_type": "markdown",
   "id": "8f73fef9-aada-43d9-bd63-e40be5bcc047",
   "metadata": {},
   "source": [
    "**GATED RECURRENT UNIT(GRU) MODEL**"
   ]
  },
  {
   "cell_type": "code",
   "execution_count": 24,
   "id": "bb67b914-e2d3-42bc-9e6e-63c1d41d4c09",
   "metadata": {},
   "outputs": [],
   "source": [
    "import numpy as np\n",
    "import pandas as pd\n",
    "from sklearn.preprocessing import MinMaxScaler"
   ]
  },
  {
   "cell_type": "markdown",
   "id": "002738ec-5185-4467-a05a-f072ea14d500",
   "metadata": {},
   "source": [
    "**Import and prepare Data**"
   ]
  },
  {
   "cell_type": "code",
   "execution_count": 25,
   "id": "fdd751c0-937d-4210-a7e6-1d2a8d8a80c8",
   "metadata": {},
   "outputs": [],
   "source": [
    "# Load your data\n",
    "df = pd.read_csv(\"Nigeria_Inflation.csv\")"
   ]
  },
  {
   "cell_type": "code",
   "execution_count": 26,
   "id": "b327b974-bec1-40fa-b44a-ba2870aa8fbc",
   "metadata": {},
   "outputs": [],
   "source": [
    "#Let's fix this by specifying the correct delimiter (most likely a comma) \n",
    "#and properly splitting it into individual columns. \n",
    "\n",
    "df = pd.read_csv(\"Nigeria_Inflation.csv\", header=None)\n",
    "split_df = df[0].str.split(\",\", expand=True)\n",
    "split_df.columns = split_df.iloc[0]\n",
    "df = split_df[1:].reset_index(drop=True)"
   ]
  },
  {
   "cell_type": "code",
   "execution_count": 28,
   "id": "332b39b5-7f98-4294-8390-da848575fc97",
   "metadata": {},
   "outputs": [
    {
     "data": {
      "text/html": [
       "<div>\n",
       "<style scoped>\n",
       "    .dataframe tbody tr th:only-of-type {\n",
       "        vertical-align: middle;\n",
       "    }\n",
       "\n",
       "    .dataframe tbody tr th {\n",
       "        vertical-align: top;\n",
       "    }\n",
       "\n",
       "    .dataframe thead th {\n",
       "        text-align: right;\n",
       "    }\n",
       "</style>\n",
       "<table border=\"1\" class=\"dataframe\">\n",
       "  <thead>\n",
       "    <tr style=\"text-align: right;\">\n",
       "      <th></th>\n",
       "      <th>Year</th>\n",
       "      <th>Month</th>\n",
       "      <th>Inflation_Rate</th>\n",
       "      <th>Crude Oil Price</th>\n",
       "      <th>Production</th>\n",
       "      <th>Crude Oil Export</th>\n",
       "      <th>CPI_Food</th>\n",
       "      <th>CPI_Energy</th>\n",
       "      <th>CPI_Health</th>\n",
       "      <th>CPI_Transport</th>\n",
       "      <th>CPI_Communication</th>\n",
       "      <th>CPI_Education</th>\n",
       "      <th>Date</th>\n",
       "    </tr>\n",
       "  </thead>\n",
       "  <tbody>\n",
       "    <tr>\n",
       "      <th>0</th>\n",
       "      <td>2008</td>\n",
       "      <td>1</td>\n",
       "      <td>8.6</td>\n",
       "      <td>94.26</td>\n",
       "      <td>2.17</td>\n",
       "      <td>1.72</td>\n",
       "      <td>75.53443079</td>\n",
       "      <td>84.612846</td>\n",
       "      <td>83.86313858</td>\n",
       "      <td>86.53003755</td>\n",
       "      <td>83.12944045</td>\n",
       "      <td>75.2844657</td>\n",
       "      <td>2008-01-01</td>\n",
       "    </tr>\n",
       "    <tr>\n",
       "      <th>1</th>\n",
       "      <td>2008</td>\n",
       "      <td>2</td>\n",
       "      <td>8</td>\n",
       "      <td>98.15</td>\n",
       "      <td>2.08</td>\n",
       "      <td>1.63</td>\n",
       "      <td>75.15418502</td>\n",
       "      <td>85.23163236</td>\n",
       "      <td>83.3658912</td>\n",
       "      <td>88.35523571</td>\n",
       "      <td>82.88981376</td>\n",
       "      <td>75.45761873</td>\n",
       "      <td>2008-02-01</td>\n",
       "    </tr>\n",
       "    <tr>\n",
       "      <th>2</th>\n",
       "      <td>2008</td>\n",
       "      <td>3</td>\n",
       "      <td>7.8</td>\n",
       "      <td>103.73</td>\n",
       "      <td>2.06</td>\n",
       "      <td>1.61</td>\n",
       "      <td>78.24252261</td>\n",
       "      <td>83.25151603</td>\n",
       "      <td>86.08299296</td>\n",
       "      <td>84.37630371</td>\n",
       "      <td>81.89347122</td>\n",
       "      <td>74.82684697</td>\n",
       "      <td>2008-03-01</td>\n",
       "    </tr>\n",
       "    <tr>\n",
       "      <th>3</th>\n",
       "      <td>2008</td>\n",
       "      <td>4</td>\n",
       "      <td>8.2</td>\n",
       "      <td>116.73</td>\n",
       "      <td>1.96</td>\n",
       "      <td>1.51</td>\n",
       "      <td>79.43426849</td>\n",
       "      <td>84.34883049</td>\n",
       "      <td>89.44533239</td>\n",
       "      <td>88.60033375</td>\n",
       "      <td>93.93786522</td>\n",
       "      <td>73.66424802</td>\n",
       "      <td>2008-04-01</td>\n",
       "    </tr>\n",
       "    <tr>\n",
       "      <th>4</th>\n",
       "      <td>2008</td>\n",
       "      <td>5</td>\n",
       "      <td>9.7</td>\n",
       "      <td>126.57</td>\n",
       "      <td>2.05</td>\n",
       "      <td>1.6</td>\n",
       "      <td>80.78367725</td>\n",
       "      <td>85.57402747</td>\n",
       "      <td>90.54046055</td>\n",
       "      <td>87.93283271</td>\n",
       "      <td>97.55328541</td>\n",
       "      <td>74.88044195</td>\n",
       "      <td>2008-05-01</td>\n",
       "    </tr>\n",
       "    <tr>\n",
       "      <th>...</th>\n",
       "      <td>...</td>\n",
       "      <td>...</td>\n",
       "      <td>...</td>\n",
       "      <td>...</td>\n",
       "      <td>...</td>\n",
       "      <td>...</td>\n",
       "      <td>...</td>\n",
       "      <td>...</td>\n",
       "      <td>...</td>\n",
       "      <td>...</td>\n",
       "      <td>...</td>\n",
       "      <td>...</td>\n",
       "      <td>...</td>\n",
       "    </tr>\n",
       "    <tr>\n",
       "      <th>193</th>\n",
       "      <td>2024</td>\n",
       "      <td>2</td>\n",
       "      <td>31.7</td>\n",
       "      <td>86.08</td>\n",
       "      <td>1.32</td>\n",
       "      <td>0.87</td>\n",
       "      <td>846.8465333</td>\n",
       "      <td>543.8939686</td>\n",
       "      <td>494.8445684</td>\n",
       "      <td>570.0340878</td>\n",
       "      <td>234.2289477</td>\n",
       "      <td>469.8997124</td>\n",
       "      <td>2024-02-01</td>\n",
       "    </tr>\n",
       "    <tr>\n",
       "      <th>194</th>\n",
       "      <td>2024</td>\n",
       "      <td>3</td>\n",
       "      <td>33.2</td>\n",
       "      <td>88.8</td>\n",
       "      <td>1.23</td>\n",
       "      <td>0.78</td>\n",
       "      <td>877.4728633</td>\n",
       "      <td>558.8130161</td>\n",
       "      <td>502.9126866</td>\n",
       "      <td>579.8214526</td>\n",
       "      <td>234.6946536</td>\n",
       "      <td>476.8902921</td>\n",
       "      <td>2024-03-01</td>\n",
       "    </tr>\n",
       "    <tr>\n",
       "      <th>195</th>\n",
       "      <td>2024</td>\n",
       "      <td>4</td>\n",
       "      <td>33.69</td>\n",
       "      <td>93.12</td>\n",
       "      <td>1.28</td>\n",
       "      <td>0.83</td>\n",
       "      <td>899.4533859</td>\n",
       "      <td>571.960431</td>\n",
       "      <td>510.0958787</td>\n",
       "      <td>592.2827526</td>\n",
       "      <td>235.3359754</td>\n",
       "      <td>483.7198405</td>\n",
       "      <td>2024-04-01</td>\n",
       "    </tr>\n",
       "    <tr>\n",
       "      <th>196</th>\n",
       "      <td>2024</td>\n",
       "      <td>5</td>\n",
       "      <td>33.95</td>\n",
       "      <td>84.01</td>\n",
       "      <td>1.25</td>\n",
       "      <td>0.8</td>\n",
       "      <td>920.0052812</td>\n",
       "      <td>583.8941583</td>\n",
       "      <td>517.3917841</td>\n",
       "      <td>606.4080759</td>\n",
       "      <td>235.8504055</td>\n",
       "      <td>490.7797919</td>\n",
       "      <td>2024-05-01</td>\n",
       "    </tr>\n",
       "    <tr>\n",
       "      <th>197</th>\n",
       "      <td>2024</td>\n",
       "      <td>6</td>\n",
       "      <td>34.19</td>\n",
       "      <td>83.64</td>\n",
       "      <td>1.28</td>\n",
       "      <td>0.83</td>\n",
       "      <td>943.458769</td>\n",
       "      <td>596.4960221</td>\n",
       "      <td>524.7477114</td>\n",
       "      <td>620.9662515</td>\n",
       "      <td>236.0619864</td>\n",
       "      <td>498.2422389</td>\n",
       "      <td>2024-06-01</td>\n",
       "    </tr>\n",
       "  </tbody>\n",
       "</table>\n",
       "<p>198 rows × 13 columns</p>\n",
       "</div>"
      ],
      "text/plain": [
       "0    Year Month Inflation_Rate Crude Oil Price Production Crude Oil Export  \\\n",
       "0    2008     1            8.6           94.26       2.17             1.72   \n",
       "1    2008     2              8           98.15       2.08             1.63   \n",
       "2    2008     3            7.8          103.73       2.06             1.61   \n",
       "3    2008     4            8.2          116.73       1.96             1.51   \n",
       "4    2008     5            9.7          126.57       2.05              1.6   \n",
       "..    ...   ...            ...             ...        ...              ...   \n",
       "193  2024     2           31.7           86.08       1.32             0.87   \n",
       "194  2024     3           33.2            88.8       1.23             0.78   \n",
       "195  2024     4          33.69           93.12       1.28             0.83   \n",
       "196  2024     5          33.95           84.01       1.25              0.8   \n",
       "197  2024     6          34.19           83.64       1.28             0.83   \n",
       "\n",
       "0       CPI_Food   CPI_Energy   CPI_Health CPI_Transport CPI_Communication  \\\n",
       "0    75.53443079    84.612846  83.86313858   86.53003755       83.12944045   \n",
       "1    75.15418502  85.23163236   83.3658912   88.35523571       82.88981376   \n",
       "2    78.24252261  83.25151603  86.08299296   84.37630371       81.89347122   \n",
       "3    79.43426849  84.34883049  89.44533239   88.60033375       93.93786522   \n",
       "4    80.78367725  85.57402747  90.54046055   87.93283271       97.55328541   \n",
       "..           ...          ...          ...           ...               ...   \n",
       "193  846.8465333  543.8939686  494.8445684   570.0340878       234.2289477   \n",
       "194  877.4728633  558.8130161  502.9126866   579.8214526       234.6946536   \n",
       "195  899.4533859   571.960431  510.0958787   592.2827526       235.3359754   \n",
       "196  920.0052812  583.8941583  517.3917841   606.4080759       235.8504055   \n",
       "197   943.458769  596.4960221  524.7477114   620.9662515       236.0619864   \n",
       "\n",
       "0   CPI_Education       Date  \n",
       "0      75.2844657 2008-01-01  \n",
       "1     75.45761873 2008-02-01  \n",
       "2     74.82684697 2008-03-01  \n",
       "3     73.66424802 2008-04-01  \n",
       "4     74.88044195 2008-05-01  \n",
       "..            ...        ...  \n",
       "193   469.8997124 2024-02-01  \n",
       "194   476.8902921 2024-03-01  \n",
       "195   483.7198405 2024-04-01  \n",
       "196   490.7797919 2024-05-01  \n",
       "197   498.2422389 2024-06-01  \n",
       "\n",
       "[198 rows x 13 columns]"
      ]
     },
     "execution_count": 28,
     "metadata": {},
     "output_type": "execute_result"
    }
   ],
   "source": [
    "df"
   ]
  },
  {
   "cell_type": "code",
   "execution_count": 27,
   "id": "14320be8-2939-4d50-9002-5a29c5159a37",
   "metadata": {},
   "outputs": [],
   "source": [
    "# Combine 'Year' and 'Month' into a datetime column\n",
    "df['Date'] = pd.to_datetime(df['Year'] + '-' + df['Month'], errors='coerce')"
   ]
  },
  {
   "cell_type": "code",
   "execution_count": 33,
   "id": "e2ded08b-e24a-4ff8-a04a-5285b2fbde22",
   "metadata": {},
   "outputs": [],
   "source": [
    "# Convert numeric columns\n",
    "numeric_columns = df.columns.drop(['Year', 'Month', 'Date'])\n",
    "for col in numeric_columns:\n",
    "    df[col] = pd.to_numeric(df[col], errors='coerce')"
   ]
  },
  {
   "cell_type": "markdown",
   "id": "fda591fe-5911-4c00-aef1-6bb1f353362b",
   "metadata": {},
   "source": [
    "**Drop Missing Value**"
   ]
  },
  {
   "cell_type": "code",
   "execution_count": 34,
   "id": "79f4278a-0eb8-427b-a429-05858de7d3f7",
   "metadata": {},
   "outputs": [],
   "source": [
    "# Drop rows with missing values\n",
    "df = df.dropna().reset_index(drop=True)"
   ]
  },
  {
   "cell_type": "code",
   "execution_count": 35,
   "id": "994723af-d09d-4146-b603-1d11fc2f2ae7",
   "metadata": {},
   "outputs": [
    {
     "data": {
      "text/html": [
       "<div>\n",
       "<style scoped>\n",
       "    .dataframe tbody tr th:only-of-type {\n",
       "        vertical-align: middle;\n",
       "    }\n",
       "\n",
       "    .dataframe tbody tr th {\n",
       "        vertical-align: top;\n",
       "    }\n",
       "\n",
       "    .dataframe thead th {\n",
       "        text-align: right;\n",
       "    }\n",
       "</style>\n",
       "<table border=\"1\" class=\"dataframe\">\n",
       "  <thead>\n",
       "    <tr style=\"text-align: right;\">\n",
       "      <th></th>\n",
       "      <th>Year</th>\n",
       "      <th>Month</th>\n",
       "      <th>Inflation_Rate</th>\n",
       "      <th>Crude Oil Price</th>\n",
       "      <th>Production</th>\n",
       "      <th>Crude Oil Export</th>\n",
       "      <th>CPI_Food</th>\n",
       "      <th>CPI_Energy</th>\n",
       "      <th>CPI_Health</th>\n",
       "      <th>CPI_Transport</th>\n",
       "      <th>CPI_Communication</th>\n",
       "      <th>CPI_Education</th>\n",
       "      <th>Date</th>\n",
       "    </tr>\n",
       "  </thead>\n",
       "  <tbody>\n",
       "    <tr>\n",
       "      <th>0</th>\n",
       "      <td>2008</td>\n",
       "      <td>1</td>\n",
       "      <td>8.60</td>\n",
       "      <td>94.26</td>\n",
       "      <td>2.17</td>\n",
       "      <td>1.72</td>\n",
       "      <td>75.534431</td>\n",
       "      <td>84.612846</td>\n",
       "      <td>83.863139</td>\n",
       "      <td>86.530038</td>\n",
       "      <td>83.129440</td>\n",
       "      <td>75.284466</td>\n",
       "      <td>2008-01-01</td>\n",
       "    </tr>\n",
       "    <tr>\n",
       "      <th>1</th>\n",
       "      <td>2008</td>\n",
       "      <td>2</td>\n",
       "      <td>8.00</td>\n",
       "      <td>98.15</td>\n",
       "      <td>2.08</td>\n",
       "      <td>1.63</td>\n",
       "      <td>75.154185</td>\n",
       "      <td>85.231632</td>\n",
       "      <td>83.365891</td>\n",
       "      <td>88.355236</td>\n",
       "      <td>82.889814</td>\n",
       "      <td>75.457619</td>\n",
       "      <td>2008-02-01</td>\n",
       "    </tr>\n",
       "    <tr>\n",
       "      <th>2</th>\n",
       "      <td>2008</td>\n",
       "      <td>3</td>\n",
       "      <td>7.80</td>\n",
       "      <td>103.73</td>\n",
       "      <td>2.06</td>\n",
       "      <td>1.61</td>\n",
       "      <td>78.242523</td>\n",
       "      <td>83.251516</td>\n",
       "      <td>86.082993</td>\n",
       "      <td>84.376304</td>\n",
       "      <td>81.893471</td>\n",
       "      <td>74.826847</td>\n",
       "      <td>2008-03-01</td>\n",
       "    </tr>\n",
       "    <tr>\n",
       "      <th>3</th>\n",
       "      <td>2008</td>\n",
       "      <td>4</td>\n",
       "      <td>8.20</td>\n",
       "      <td>116.73</td>\n",
       "      <td>1.96</td>\n",
       "      <td>1.51</td>\n",
       "      <td>79.434268</td>\n",
       "      <td>84.348830</td>\n",
       "      <td>89.445332</td>\n",
       "      <td>88.600334</td>\n",
       "      <td>93.937865</td>\n",
       "      <td>73.664248</td>\n",
       "      <td>2008-04-01</td>\n",
       "    </tr>\n",
       "    <tr>\n",
       "      <th>4</th>\n",
       "      <td>2008</td>\n",
       "      <td>5</td>\n",
       "      <td>9.70</td>\n",
       "      <td>126.57</td>\n",
       "      <td>2.05</td>\n",
       "      <td>1.60</td>\n",
       "      <td>80.783677</td>\n",
       "      <td>85.574027</td>\n",
       "      <td>90.540461</td>\n",
       "      <td>87.932833</td>\n",
       "      <td>97.553285</td>\n",
       "      <td>74.880442</td>\n",
       "      <td>2008-05-01</td>\n",
       "    </tr>\n",
       "    <tr>\n",
       "      <th>...</th>\n",
       "      <td>...</td>\n",
       "      <td>...</td>\n",
       "      <td>...</td>\n",
       "      <td>...</td>\n",
       "      <td>...</td>\n",
       "      <td>...</td>\n",
       "      <td>...</td>\n",
       "      <td>...</td>\n",
       "      <td>...</td>\n",
       "      <td>...</td>\n",
       "      <td>...</td>\n",
       "      <td>...</td>\n",
       "      <td>...</td>\n",
       "    </tr>\n",
       "    <tr>\n",
       "      <th>192</th>\n",
       "      <td>2024</td>\n",
       "      <td>2</td>\n",
       "      <td>31.70</td>\n",
       "      <td>86.08</td>\n",
       "      <td>1.32</td>\n",
       "      <td>0.87</td>\n",
       "      <td>846.846533</td>\n",
       "      <td>543.893969</td>\n",
       "      <td>494.844568</td>\n",
       "      <td>570.034088</td>\n",
       "      <td>234.228948</td>\n",
       "      <td>469.899712</td>\n",
       "      <td>2024-02-01</td>\n",
       "    </tr>\n",
       "    <tr>\n",
       "      <th>193</th>\n",
       "      <td>2024</td>\n",
       "      <td>3</td>\n",
       "      <td>33.20</td>\n",
       "      <td>88.80</td>\n",
       "      <td>1.23</td>\n",
       "      <td>0.78</td>\n",
       "      <td>877.472863</td>\n",
       "      <td>558.813016</td>\n",
       "      <td>502.912687</td>\n",
       "      <td>579.821453</td>\n",
       "      <td>234.694654</td>\n",
       "      <td>476.890292</td>\n",
       "      <td>2024-03-01</td>\n",
       "    </tr>\n",
       "    <tr>\n",
       "      <th>194</th>\n",
       "      <td>2024</td>\n",
       "      <td>4</td>\n",
       "      <td>33.69</td>\n",
       "      <td>93.12</td>\n",
       "      <td>1.28</td>\n",
       "      <td>0.83</td>\n",
       "      <td>899.453386</td>\n",
       "      <td>571.960431</td>\n",
       "      <td>510.095879</td>\n",
       "      <td>592.282753</td>\n",
       "      <td>235.335975</td>\n",
       "      <td>483.719840</td>\n",
       "      <td>2024-04-01</td>\n",
       "    </tr>\n",
       "    <tr>\n",
       "      <th>195</th>\n",
       "      <td>2024</td>\n",
       "      <td>5</td>\n",
       "      <td>33.95</td>\n",
       "      <td>84.01</td>\n",
       "      <td>1.25</td>\n",
       "      <td>0.80</td>\n",
       "      <td>920.005281</td>\n",
       "      <td>583.894158</td>\n",
       "      <td>517.391784</td>\n",
       "      <td>606.408076</td>\n",
       "      <td>235.850405</td>\n",
       "      <td>490.779792</td>\n",
       "      <td>2024-05-01</td>\n",
       "    </tr>\n",
       "    <tr>\n",
       "      <th>196</th>\n",
       "      <td>2024</td>\n",
       "      <td>6</td>\n",
       "      <td>34.19</td>\n",
       "      <td>83.64</td>\n",
       "      <td>1.28</td>\n",
       "      <td>0.83</td>\n",
       "      <td>943.458769</td>\n",
       "      <td>596.496022</td>\n",
       "      <td>524.747711</td>\n",
       "      <td>620.966251</td>\n",
       "      <td>236.061986</td>\n",
       "      <td>498.242239</td>\n",
       "      <td>2024-06-01</td>\n",
       "    </tr>\n",
       "  </tbody>\n",
       "</table>\n",
       "<p>197 rows × 13 columns</p>\n",
       "</div>"
      ],
      "text/plain": [
       "0    Year Month  Inflation_Rate  Crude Oil Price  Production  \\\n",
       "0    2008     1            8.60            94.26        2.17   \n",
       "1    2008     2            8.00            98.15        2.08   \n",
       "2    2008     3            7.80           103.73        2.06   \n",
       "3    2008     4            8.20           116.73        1.96   \n",
       "4    2008     5            9.70           126.57        2.05   \n",
       "..    ...   ...             ...              ...         ...   \n",
       "192  2024     2           31.70            86.08        1.32   \n",
       "193  2024     3           33.20            88.80        1.23   \n",
       "194  2024     4           33.69            93.12        1.28   \n",
       "195  2024     5           33.95            84.01        1.25   \n",
       "196  2024     6           34.19            83.64        1.28   \n",
       "\n",
       "0    Crude Oil Export    CPI_Food  CPI_Energy  CPI_Health  CPI_Transport  \\\n",
       "0                1.72   75.534431   84.612846   83.863139      86.530038   \n",
       "1                1.63   75.154185   85.231632   83.365891      88.355236   \n",
       "2                1.61   78.242523   83.251516   86.082993      84.376304   \n",
       "3                1.51   79.434268   84.348830   89.445332      88.600334   \n",
       "4                1.60   80.783677   85.574027   90.540461      87.932833   \n",
       "..                ...         ...         ...         ...            ...   \n",
       "192              0.87  846.846533  543.893969  494.844568     570.034088   \n",
       "193              0.78  877.472863  558.813016  502.912687     579.821453   \n",
       "194              0.83  899.453386  571.960431  510.095879     592.282753   \n",
       "195              0.80  920.005281  583.894158  517.391784     606.408076   \n",
       "196              0.83  943.458769  596.496022  524.747711     620.966251   \n",
       "\n",
       "0    CPI_Communication  CPI_Education       Date  \n",
       "0            83.129440      75.284466 2008-01-01  \n",
       "1            82.889814      75.457619 2008-02-01  \n",
       "2            81.893471      74.826847 2008-03-01  \n",
       "3            93.937865      73.664248 2008-04-01  \n",
       "4            97.553285      74.880442 2008-05-01  \n",
       "..                 ...            ...        ...  \n",
       "192         234.228948     469.899712 2024-02-01  \n",
       "193         234.694654     476.890292 2024-03-01  \n",
       "194         235.335975     483.719840 2024-04-01  \n",
       "195         235.850405     490.779792 2024-05-01  \n",
       "196         236.061986     498.242239 2024-06-01  \n",
       "\n",
       "[197 rows x 13 columns]"
      ]
     },
     "execution_count": 35,
     "metadata": {},
     "output_type": "execute_result"
    }
   ],
   "source": [
    "df"
   ]
  },
  {
   "cell_type": "code",
   "execution_count": 55,
   "id": "0d9dec4e-c481-410c-9fad-c38be03f29c4",
   "metadata": {},
   "outputs": [],
   "source": [
    "\n",
    "df = df.sort_values(by='Date').reset_index(drop=True)"
   ]
  },
  {
   "cell_type": "code",
   "execution_count": 56,
   "id": "8e42bbff-5d53-4a19-8712-08eb8bd7f5af",
   "metadata": {},
   "outputs": [
    {
     "name": "stdout",
     "output_type": "stream",
     "text": [
      "0       Date  Inflation_Rate  Crude Oil Price  Production  Crude Oil Export  \\\n",
      "0 2008-01-01             8.6            94.26        2.17              1.72   \n",
      "1 2008-02-01             8.0            98.15        2.08              1.63   \n",
      "2 2008-03-01             7.8           103.73        2.06              1.61   \n",
      "3 2008-04-01             8.2           116.73        1.96              1.51   \n",
      "4 2008-05-01             9.7           126.57        2.05              1.60   \n",
      "\n",
      "0   CPI_Food  CPI_Energy  CPI_Health  CPI_Transport  CPI_Communication  \\\n",
      "0  75.534431   84.612846   83.863139      86.530038          83.129440   \n",
      "1  75.154185   85.231632   83.365891      88.355236          82.889814   \n",
      "2  78.242523   83.251516   86.082993      84.376304          81.893471   \n",
      "3  79.434268   84.348830   89.445332      88.600334          93.937865   \n",
      "4  80.783677   85.574027   90.540461      87.932833          97.553285   \n",
      "\n",
      "0  CPI_Education  \n",
      "0      75.284466  \n",
      "1      75.457619  \n",
      "2      74.826847  \n",
      "3      73.664248  \n",
      "4      74.880442  \n"
     ]
    }
   ],
   "source": [
    "# View result\n",
    "print(df[['Date'] + list(numeric_columns)].head())"
   ]
  },
  {
   "cell_type": "markdown",
   "id": "c5fdb664-1616-457b-8a35-1fcb6a98b50e",
   "metadata": {},
   "source": [
    "**Define Features and Target**"
   ]
  },
  {
   "cell_type": "code",
   "execution_count": 57,
   "id": "12b007b3-6ba4-4b51-8cf4-8ec19e5bed95",
   "metadata": {},
   "outputs": [],
   "source": [
    "import numpy as np\n",
    "from sklearn.preprocessing import MinMaxScaler\n",
    "\n",
    "# Use 'Inflation Rate' as target and other features as predictors\n",
    "features = ['Crude Oil Price', 'Production', 'Crude Oil Export',\n",
    "            'CPI_Food', 'CPI_Energy', 'CPI_Health', 'CPI_Transport',\n",
    "            'CPI_Communication', 'CPI_Education']\n",
    "\n",
    "target = 'Inflation_Rate'"
   ]
  },
  {
   "cell_type": "code",
   "execution_count": 38,
   "id": "747d0739-21b1-4410-838b-aa1f14a91e29",
   "metadata": {},
   "outputs": [],
   "source": [
    "df_model = df[['Date'] + features + [target]]"
   ]
  },
  {
   "cell_type": "markdown",
   "id": "ba54f63e-2206-436d-ba8e-f39a0db0563d",
   "metadata": {},
   "source": [
    "**Scale the features and target**"
   ]
  },
  {
   "cell_type": "code",
   "execution_count": 58,
   "id": "b86fc85f-d692-4e30-9b4f-ad0f2fdf87a8",
   "metadata": {},
   "outputs": [],
   "source": [
    "# Scale the features and target\n",
    "scaler = MinMaxScaler()\n",
    "scaled_data = scaler.fit_transform(df_model[features + [target]])"
   ]
  },
  {
   "cell_type": "markdown",
   "id": "e1b26731-42f8-4830-830d-9cf0fefa44c8",
   "metadata": {},
   "source": [
    "**Create Sequence for GRU Model**"
   ]
  },
  {
   "cell_type": "code",
   "execution_count": 59,
   "id": "d8e6daab-3860-4598-ac1a-b6cd090b182f",
   "metadata": {},
   "outputs": [],
   "source": [
    "# Convert to sequences (e.g., past 12 months → next month)\n",
    "def create_sequences(data, seq_length=12):\n",
    "    X, y = [], []\n",
    "    for i in range(len(data) - seq_length):\n",
    "        X.append(data[i:i + seq_length, :-1])  # Features\n",
    "        y.append(data[i + seq_length, -1])     # Target (Inflation Rate)\n",
    "    return np.array(X), np.array(y)"
   ]
  },
  {
   "cell_type": "code",
   "execution_count": 60,
   "id": "5479da20-0d29-4817-bc0c-4d9e8337d0bf",
   "metadata": {},
   "outputs": [],
   "source": [
    "# Generate sequences\n",
    "X, y = create_sequences(scaled_data, seq_length=12)"
   ]
  },
  {
   "cell_type": "markdown",
   "id": "ce6384c8-6da6-4ba4-917c-16f7a68b0a71",
   "metadata": {},
   "source": [
    "**Split into Train and Test**"
   ]
  },
  {
   "cell_type": "code",
   "execution_count": 61,
   "id": "74c79121-6b90-4d79-a290-2deabecdca7a",
   "metadata": {},
   "outputs": [],
   "source": [
    "# Train-test split (80-20)\n",
    "split_index = int(len(X) * 0.8)\n",
    "X_train, X_test = X[:split_index], X[split_index:]\n",
    "y_train, y_test = y[:split_index], y[split_index:]"
   ]
  },
  {
   "cell_type": "code",
   "execution_count": 62,
   "id": "4b34ef51-9715-429e-a261-1e32491cf242",
   "metadata": {},
   "outputs": [
    {
     "name": "stdout",
     "output_type": "stream",
     "text": [
      "X_train shape: (148, 12, 9)\n",
      "y_train shape: (148,)\n"
     ]
    }
   ],
   "source": [
    "# Show shape of GRU-ready data\n",
    "print(\"X_train shape:\", X_train.shape)\n",
    "print(\"y_train shape:\", y_train.shape)"
   ]
  },
  {
   "cell_type": "markdown",
   "id": "968d601b-bc83-4d75-b793-4b5548637486",
   "metadata": {},
   "source": [
    "**Fit Model**"
   ]
  },
  {
   "cell_type": "code",
   "execution_count": 73,
   "id": "003b8e13-0487-4240-9671-1b91e5a91b31",
   "metadata": {},
   "outputs": [],
   "source": [
    "import numpy as np\n",
    "import pandas as pd\n",
    "import matplotlib.pyplot as plt\n",
    "\n",
    "from sklearn.preprocessing import MinMaxScaler\n",
    "from sklearn.metrics import mean_absolute_error, mean_squared_error\n",
    "\n",
    "from tensorflow.keras.models import Sequential\n",
    "from tensorflow.keras.layers import GRU, Dense, Dropout\n",
    "from tensorflow.keras.callbacks import EarlyStopping\n"
   ]
  },
  {
   "cell_type": "code",
   "execution_count": 74,
   "id": "e624ed15-120e-4fa9-9470-15cbe1cc0ab5",
   "metadata": {},
   "outputs": [
    {
     "name": "stderr",
     "output_type": "stream",
     "text": [
      "C:\\Users\\PC\\anaconda3\\Lib\\site-packages\\keras\\src\\layers\\rnn\\rnn.py:200: UserWarning: Do not pass an `input_shape`/`input_dim` argument to a layer. When using Sequential models, prefer using an `Input(shape)` object as the first layer in the model instead.\n",
      "  super().__init__(**kwargs)\n"
     ]
    }
   ],
   "source": [
    "# Build the GRU model\n",
    "gru_model = Sequential()\n",
    "gru_model.add(GRU(64, return_sequences=True, input_shape=(X_train.shape[1], X_train.shape[2])))\n",
    "gru_model.add(Dropout(0.2))\n",
    "gru_model.add(GRU(32))\n",
    "gru_model.add(Dropout(0.2))\n",
    "gru_model.add(Dense(1))"
   ]
  },
  {
   "cell_type": "code",
   "execution_count": 75,
   "id": "fdf1b8e1-ffd2-4861-9cc7-15cf2611a971",
   "metadata": {},
   "outputs": [],
   "source": [
    "# Compile the model\n",
    "gru_model.compile(optimizer='adam', loss='mean_squared_error')"
   ]
  },
  {
   "cell_type": "code",
   "execution_count": 76,
   "id": "aee6846e-df6b-4641-a332-7e736da53909",
   "metadata": {},
   "outputs": [],
   "source": [
    "# Early stopping to prevent overfitting\n",
    "early_stop = EarlyStopping(monitor='val_loss', patience=3, restore_best_weights=True)\n",
    "\n"
   ]
  },
  {
   "cell_type": "markdown",
   "id": "af298b1c-372b-4e38-9e29-4dddfee7541b",
   "metadata": {},
   "source": [
    "**Train Model**"
   ]
  },
  {
   "cell_type": "code",
   "execution_count": 77,
   "id": "8ae0dac9-5334-431e-8a8c-08b4899e4a42",
   "metadata": {},
   "outputs": [
    {
     "name": "stdout",
     "output_type": "stream",
     "text": [
      "Epoch 1/50\n",
      "\u001b[1m5/5\u001b[0m \u001b[32m━━━━━━━━━━━━━━━━━━━━\u001b[0m\u001b[37m\u001b[0m \u001b[1m9s\u001b[0m 296ms/step - loss: 0.0592 - val_loss: 0.0335\n",
      "Epoch 2/50\n",
      "\u001b[1m5/5\u001b[0m \u001b[32m━━━━━━━━━━━━━━━━━━━━\u001b[0m\u001b[37m\u001b[0m \u001b[1m0s\u001b[0m 59ms/step - loss: 0.0366 - val_loss: 0.1070\n",
      "Epoch 3/50\n",
      "\u001b[1m5/5\u001b[0m \u001b[32m━━━━━━━━━━━━━━━━━━━━\u001b[0m\u001b[37m\u001b[0m \u001b[1m0s\u001b[0m 59ms/step - loss: 0.0177 - val_loss: 0.2006\n",
      "Epoch 4/50\n",
      "\u001b[1m5/5\u001b[0m \u001b[32m━━━━━━━━━━━━━━━━━━━━\u001b[0m\u001b[37m\u001b[0m \u001b[1m0s\u001b[0m 82ms/step - loss: 0.0170 - val_loss: 0.1424\n"
     ]
    }
   ],
   "source": [
    "# Fit the model\n",
    "history = gru_model.fit(\n",
    "    X_train, y_train,\n",
    "    epochs=50,\n",
    "    validation_data=(X_test, y_test),\n",
    "    callbacks=[early_stop],\n",
    "    verbose=1\n",
    ")"
   ]
  },
  {
   "cell_type": "markdown",
   "id": "13b77fa5-1bf9-4c78-b96b-264cbb447d20",
   "metadata": {},
   "source": [
    "**Make Predictions on Test Data**"
   ]
  },
  {
   "cell_type": "code",
   "execution_count": 78,
   "id": "7381ea42-1180-44b3-9b91-1e014788c9bf",
   "metadata": {},
   "outputs": [
    {
     "name": "stdout",
     "output_type": "stream",
     "text": [
      "\u001b[1m2/2\u001b[0m \u001b[32m━━━━━━━━━━━━━━━━━━━━\u001b[0m\u001b[37m\u001b[0m \u001b[1m1s\u001b[0m 743ms/step\n"
     ]
    }
   ],
   "source": [
    "# Predict on test set\n",
    "y_pred = gru_model.predict(X_test)\n"
   ]
  },
  {
   "cell_type": "markdown",
   "id": "c57c6acf-8b8d-4af2-9bae-dc7aac1e16d0",
   "metadata": {},
   "source": [
    "**Evaluation**"
   ]
  },
  {
   "cell_type": "code",
   "execution_count": 79,
   "id": "f3ec2a47-b21e-427d-a8d2-88336b01acf2",
   "metadata": {},
   "outputs": [
    {
     "name": "stdout",
     "output_type": "stream",
     "text": [
      "GRU Model - MAE: 0.1378, RMSE: 0.1831\n"
     ]
    }
   ],
   "source": [
    "\n",
    "mae = mean_absolute_error(y_test, y_pred)\n",
    "rmse = np.sqrt(mean_squared_error(y_test, y_pred))\n",
    "print(f\"GRU Model - MAE: {mae:.4f}, RMSE: {rmse:.4f}\")"
   ]
  },
  {
   "cell_type": "code",
   "execution_count": 81,
   "id": "ccbc6a7c-05fd-45ff-9a48-6d15d0465135",
   "metadata": {},
   "outputs": [
    {
     "name": "stdout",
     "output_type": "stream",
     "text": [
      "MAE: 0.13781105856344578, RMSE: 0.18313074207032795\n"
     ]
    }
   ],
   "source": [
    "from sklearn.metrics import mean_absolute_error, mean_squared_error\n",
    "import numpy as np\n",
    "\n",
    "mae = mean_absolute_error(y_test, y_pred)\n",
    "rmse = np.sqrt(mean_squared_error(y_test, y_pred))\n",
    "print(f\"MAE: {mae}, RMSE: {rmse}\")"
   ]
  },
  {
   "cell_type": "markdown",
   "id": "5609cda5-876d-46e0-b776-70ec88546dd8",
   "metadata": {},
   "source": [
    "**Plot Actual vs Predicted Inflation Rates**"
   ]
  },
  {
   "cell_type": "code",
   "execution_count": 83,
   "id": "00b3da96-be32-4760-9083-6ad713c7a98c",
   "metadata": {},
   "outputs": [
    {
     "data": {
      "image/png": "[encoded data removed]",
      "text/plain": [
       "<Figure size 1000x500 with 1 Axes>"
      ]
     },
     "metadata": {},
     "output_type": "display_data"
    }
   ],
   "source": [
    "import matplotlib.pyplot as plt\n",
    "\n",
    "plt.figure(figsize=(10, 5))\n",
    "plt.plot(y_test, label='Actual')\n",
    "plt.plot(y_pred, label='Predicted')\n",
    "plt.title('GRU Model: Actual vs Predicted Inflation Rate')\n",
    "plt.legend()\n",
    "plt.show()"
   ]
  }
 ],
 "metadata": {
  "kernelspec": {
   "display_name": "python(Infaltion Project)",
   "language": "python",
   "name": "my_env"
  },
  "language_info": {
   "codemirror_mode": {
    "name": "ipython",
    "version": 3
   },
   "file_extension": ".py",
   "mimetype": "text/x-python",
   "name": "python",
   "nbconvert_exporter": "python",
   "pygments_lexer": "ipython3",
   "version": "3.12.7"
  }
 },
 "nbformat": 4,
 "nbformat_minor": 5
}
